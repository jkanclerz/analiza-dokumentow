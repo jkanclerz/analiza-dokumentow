{
 "cells": [
  {
   "cell_type": "markdown",
   "id": "abe3d931",
   "metadata": {},
   "source": [
    "[![Open In Colab](https://colab.research.google.com/assets/colab-badge.svg)](https://githubtocolab.com/jkanclerz/analiza-dokumentow/blob/main/41--word2vec-sentiment.ipynb)"
   ]
  },
  {
   "cell_type": "markdown",
   "id": "34085d6e",
   "metadata": {},
   "source": [
    "## Word2Vec\n",
    "\n",
    "Word2Vec nie jest pojedynczym algorytmem, jest to raczej rodzina architektur modeli i optymalizacji, które mogą być używane do uczenia się embeddingów słów z dużych zbiorów danych. Embeddingi poznane dzięki Word2Vec okazały się skuteczne w wielu zadaniach przetwarzania języka naturalnego.\n",
    "\n",
    "### OneHot vs WordVector\n",
    "\n",
    "* Mniejszy wymiar 8, 50, 100, 300 vs (140000 polski, 350000 angielski) \n",
    "    * efektywność przechowywania w pamięci\n",
    "* Semantyka / znaczenie\n",
    "    * W słowniku Kot i Pies == Kot i Pieniądz\n",
    "    * Intuicyjnie to nieprawda, ale maszyna nie ma jak wnioskować o podobieństwie\n",
    "* Kontekst\n",
    "    * Nie znalazłem żadnego argumentu żebym mógł sie z Tobą niezgodzic.\n",
    "\n",
    "Zakładamy, że wyrazy o podobnym znaczeniu występują częściej w tym samym kontekście niż wyrazy zupełnie z tematem nie związane\n",
    "\n",
    "Idea polega na stworzeniu macierzy, czyli *word embeddings* dla każdego słowa w dużym korpusie. Każdemu słowu przypisywany jest jego własny wektor w taki sposób, że słowa, które często pojawiają się razem w tym samym kontekście, otrzymują wektory, które są blisko siebie. W rezultacie powstaje model, który może nie wiedzieć, że \"lew\" jest zwierzęciem, ale wie, że \"lew\" jest w przestrzeni bliżej \"kota\" i \"psa\" niż \"kotlet\" ``zacny suchar milordzie``"
   ]
  },
  {
   "cell_type": "markdown",
   "id": "089b765a",
   "metadata": {},
   "source": [
    "### Continuous Bag-of-Words Model\n",
    "który przewiduje środkowe słowo na podstawie otaczających je słów kontekstu. Kontekst składa się z kilku słów przed i po bieżącym (środkowym) słowie. Architektura ta jest nazywana modelem worka słów, ponieważ kolejność słów w kontekście nie jest istotna.\n",
    "\n",
    "\n",
    "### Continuous Skip-gram Model\n",
    "który przewiduje słowa w pewnym zakresie przed i po bieżącym słowie w tym samym zdaniu. Działający przykład tego jest podany poniżej."
   ]
  },
  {
   "cell_type": "markdown",
   "id": "ec69664e",
   "metadata": {},
   "source": []
  },
  {
   "cell_type": "code",
   "execution_count": 1,
   "id": "ea841a67",
   "metadata": {},
   "outputs": [
    {
     "name": "stdout",
     "output_type": "stream",
     "text": [
      "The Zen of Python, by Tim Peters\n",
      "\n",
      "Beautiful is better than ugly.\n",
      "Explicit is better than implicit.\n",
      "Simple is better than complex.\n",
      "Complex is better than complicated.\n",
      "Flat is better than nested.\n",
      "Sparse is better than dense.\n",
      "Readability counts.\n",
      "Special cases aren't special enough to break the rules.\n",
      "Although practicality beats purity.\n",
      "Errors should never pass silently.\n",
      "Unless explicitly silenced.\n",
      "In the face of ambiguity, refuse the temptation to guess.\n",
      "There should be one-- and preferably only one --obvious way to do it.\n",
      "Although that way may not be obvious at first unless you're Dutch.\n",
      "Now is better than never.\n",
      "Although never is often better than *right* now.\n",
      "If the implementation is hard to explain, it's a bad idea.\n",
      "If the implementation is easy to explain, it may be a good idea.\n",
      "Namespaces are one honking great idea -- let's do more of those!\n"
     ]
    }
   ],
   "source": [
    "import this"
   ]
  },
  {
   "cell_type": "markdown",
   "id": "56450397",
   "metadata": {},
   "source": [
    "**Now is better than never, although never is often better than right now.**\n",
    "\n",
    "![](https://githubtocolab.com/jkanclerz/analiza-dokumentow/blob/main/images/window.jpg)"
   ]
  },
  {
   "cell_type": "markdown",
   "id": "39a87b2d",
   "metadata": {},
   "source": [
    "#### Parametry:\n",
    "* Okno - Window -> 2\n",
    "\n",
    "#### Transformacja\n",
    "* 1 iteracja\n",
    "    * target: Now\n",
    "    * context: [is, better]\n",
    "* 2 iteracja\n",
    "    * target: Is\n",
    "    * context: [Now, better, than]\n",
    "* 3 iteracja\n",
    "    * target: better\n",
    "    * context: [Now, is, than, never]\n",
    "    \n",
    "#### Dane wejściowe\n",
    "[(Now, is), (Now, better), (Is, Now), (Is, better), (Is, than)...]"
   ]
  },
  {
   "cell_type": "markdown",
   "id": "470e0122",
   "metadata": {},
   "source": [
    "### skip-gram\n",
    "* 1 iteracja\n",
    "    * target: [is, better]\n",
    "    * word: Now\n",
    "* 2 iteracja\n",
    "    * target: [Now, better, than]\n",
    "    * word: Is\n",
    "* 3 iteracja\n",
    "    * target: [Now, is, than, never]\n",
    "    * word: better\n",
    "    \n"
   ]
  },
  {
   "cell_type": "markdown",
   "id": "35988fbe",
   "metadata": {},
   "source": [
    "### Przebieg"
   ]
  },
  {
   "cell_type": "markdown",
   "id": "3b93c94d",
   "metadata": {},
   "source": [
    "Is better _____ never although -> **than**"
   ]
  },
  {
   "cell_type": "markdown",
   "id": "e01724fe",
   "metadata": {},
   "source": [
    "#### Cbow\n",
    "HotOne (0,0,1,0,1,1,0....0,1,1) -> Sieć neuronowa (50 parametrów) -> HotOne (..., 1, ...)\n",
    "#### Skip gram\n",
    "HotOne (..., 1, ...) -> Sieć neuronowa (50 parametrów) -> HotOne (0,0,1,0,1,1,0....0,1,1)\n",
    "\n",
    "![](https://github.com/jkanclerz/analiza-tekstu/raw/master/var/models.jpeg)"
   ]
  },
  {
   "cell_type": "markdown",
   "id": "3122c406",
   "metadata": {},
   "source": [
    "### Znaczenie wyrazów\n",
    "\n",
    "![](https://github.com/jkanclerz/analiza-tekstu/raw/master/var/dimenssions.jpeg)\n",
    "\n",
    "#### Gotowe modele\n",
    "\n",
    "* [http://dsmodels.nlp.ipipan.waw.pl/](http://dsmodels.nlp.ipipan.waw.pl/)"
   ]
  },
  {
   "cell_type": "code",
   "execution_count": 3,
   "id": "486ad992",
   "metadata": {},
   "outputs": [
    {
     "name": "stdout",
     "output_type": "stream",
     "text": [
      "--2023-02-11 21:36:00--  http://dsmodels.nlp.ipipan.waw.pl/dsmodels/wiki-forms-all-100-cbow-ns-30-it100.txt.gz\n",
      "Resolving dsmodels.nlp.ipipan.waw.pl (dsmodels.nlp.ipipan.waw.pl)... 213.135.36.94\n",
      "Connecting to dsmodels.nlp.ipipan.waw.pl (dsmodels.nlp.ipipan.waw.pl)|213.135.36.94|:80... connected.\n",
      "HTTP request sent, awaiting response... 200 OK\n",
      "Length: 96291106 (92M) [application/octet-stream]\n",
      "Saving to: ‘wiki-forms-all-100-cbow-ns-30-it100.txt.gz’\n",
      "\n",
      "wiki-forms-all-100- 100%[===================>]  91,83M  30,6MB/s    in 3,0s    \n",
      "\n",
      "2023-02-11 21:36:03 (30,6 MB/s) - ‘wiki-forms-all-100-cbow-ns-30-it100.txt.gz’ saved [96291106/96291106]\n",
      "\n"
     ]
    }
   ],
   "source": [
    "!wget http://dsmodels.nlp.ipipan.waw.pl/dsmodels/wiki-forms-all-100-cbow-ns-30-it100.txt.gz"
   ]
  },
  {
   "cell_type": "code",
   "execution_count": 4,
   "id": "9a01aac8",
   "metadata": {},
   "outputs": [
    {
     "name": "stdout",
     "output_type": "stream",
     "text": [
      "Collecting gensim\n",
      "  Downloading gensim-4.3.0-cp311-cp311-macosx_10_9_x86_64.whl (24.0 MB)\n",
      "\u001b[2K     \u001b[90m━━━━━━━━━━━━━━━━━━━━━━━━━━━━━━━━━━━━━━━━\u001b[0m \u001b[32m24.0/24.0 MB\u001b[0m \u001b[31m19.0 MB/s\u001b[0m eta \u001b[36m0:00:00\u001b[0m00:01\u001b[0m00:01\u001b[0m\n",
      "\u001b[?25hRequirement already satisfied: numpy>=1.18.5 in /usr/local/lib/python3.11/site-packages (from gensim) (1.24.2)\n",
      "Requirement already satisfied: scipy>=1.7.0 in /usr/local/lib/python3.11/site-packages (from gensim) (1.10.0)\n",
      "Collecting smart-open>=1.8.1\n",
      "  Downloading smart_open-6.3.0-py3-none-any.whl (56 kB)\n",
      "\u001b[2K     \u001b[90m━━━━━━━━━━━━━━━━━━━━━━━━━━━━━━━━━━━━━━━━\u001b[0m \u001b[32m56.8/56.8 kB\u001b[0m \u001b[31m2.0 MB/s\u001b[0m eta \u001b[36m0:00:00\u001b[0m\n",
      "\u001b[?25hCollecting FuzzyTM>=0.4.0\n",
      "  Downloading FuzzyTM-2.0.5-py3-none-any.whl (29 kB)\n",
      "Requirement already satisfied: pandas in /usr/local/lib/python3.11/site-packages (from FuzzyTM>=0.4.0->gensim) (1.5.3)\n",
      "Collecting pyfume\n",
      "  Downloading pyFUME-0.2.25-py3-none-any.whl (67 kB)\n",
      "\u001b[2K     \u001b[90m━━━━━━━━━━━━━━━━━━━━━━━━━━━━━━━━━━━━━━━━\u001b[0m \u001b[32m67.1/67.1 kB\u001b[0m \u001b[31m2.2 MB/s\u001b[0m eta \u001b[36m0:00:00\u001b[0m\n",
      "\u001b[?25hRequirement already satisfied: python-dateutil>=2.8.1 in /Users/jkanclerz/Library/Python/3.11/lib/python/site-packages (from pandas->FuzzyTM>=0.4.0->gensim) (2.8.2)\n",
      "Requirement already satisfied: pytz>=2020.1 in /usr/local/lib/python3.11/site-packages (from pandas->FuzzyTM>=0.4.0->gensim) (2022.7.1)\n",
      "Collecting simpful\n",
      "  Downloading simpful-2.9.0-py3-none-any.whl (30 kB)\n",
      "Collecting fst-pso\n",
      "  Downloading fst-pso-1.8.1.tar.gz (18 kB)\n",
      "  Preparing metadata (setup.py) ... \u001b[?25ldone\n",
      "\u001b[?25hRequirement already satisfied: six>=1.5 in /usr/local/lib/python3.11/site-packages (from python-dateutil>=2.8.1->pandas->FuzzyTM>=0.4.0->gensim) (1.16.0)\n",
      "Collecting miniful\n",
      "  Downloading miniful-0.0.6.tar.gz (2.8 kB)\n",
      "  Preparing metadata (setup.py) ... \u001b[?25ldone\n",
      "\u001b[?25hRequirement already satisfied: requests in /usr/local/lib/python3.11/site-packages (from simpful->pyfume->FuzzyTM>=0.4.0->gensim) (2.28.2)\n",
      "Requirement already satisfied: charset-normalizer<4,>=2 in /usr/local/lib/python3.11/site-packages (from requests->simpful->pyfume->FuzzyTM>=0.4.0->gensim) (3.0.1)\n",
      "Requirement already satisfied: idna<4,>=2.5 in /usr/local/lib/python3.11/site-packages (from requests->simpful->pyfume->FuzzyTM>=0.4.0->gensim) (3.4)\n",
      "Requirement already satisfied: urllib3<1.27,>=1.21.1 in /usr/local/lib/python3.11/site-packages (from requests->simpful->pyfume->FuzzyTM>=0.4.0->gensim) (1.26.14)\n",
      "Requirement already satisfied: certifi>=2017.4.17 in /usr/local/lib/python3.11/site-packages (from requests->simpful->pyfume->FuzzyTM>=0.4.0->gensim) (2022.12.7)\n",
      "Building wheels for collected packages: fst-pso, miniful\n",
      "  Building wheel for fst-pso (setup.py) ... \u001b[?25ldone\n",
      "\u001b[?25h  Created wheel for fst-pso: filename=fst_pso-1.8.1-py3-none-any.whl size=20430 sha256=c100609a4cd5f0d44016dfca94adf1fb5cd9f79281e6c525ef26d226df5682d8\n",
      "  Stored in directory: /Users/jkanclerz/Library/Caches/pip/wheels/47/26/0a/e76d412f705e6af66708aa77872546f99af0f54a3f9304e66b\n",
      "  Building wheel for miniful (setup.py) ... \u001b[?25ldone\n",
      "\u001b[?25h  Created wheel for miniful: filename=miniful-0.0.6-py3-none-any.whl size=3513 sha256=944f368b2f7083cd39f52597f937b0efc871991f4224caaeb17cdc3867dfa3b0\n",
      "  Stored in directory: /Users/jkanclerz/Library/Caches/pip/wheels/b8/4c/ed/249238604a67d271179c8a1dd620bf565c58992a5404948eb1\n",
      "Successfully built fst-pso miniful\n",
      "Installing collected packages: smart-open, simpful, miniful, fst-pso, pyfume, FuzzyTM, gensim\n",
      "Successfully installed FuzzyTM-2.0.5 fst-pso-1.8.1 gensim-4.3.0 miniful-0.0.6 pyfume-0.2.25 simpful-2.9.0 smart-open-6.3.0\n",
      "\n",
      "\u001b[1m[\u001b[0m\u001b[34;49mnotice\u001b[0m\u001b[1;39;49m]\u001b[0m\u001b[39;49m A new release of pip available: \u001b[0m\u001b[31;49m22.3.1\u001b[0m\u001b[39;49m -> \u001b[0m\u001b[32;49m23.0\u001b[0m\n",
      "\u001b[1m[\u001b[0m\u001b[34;49mnotice\u001b[0m\u001b[1;39;49m]\u001b[0m\u001b[39;49m To update, run: \u001b[0m\u001b[32;49mpython3.11 -m pip install --upgrade pip\u001b[0m\n",
      "Note: you may need to restart the kernel to use updated packages.\n"
     ]
    }
   ],
   "source": [
    "pip install gensim"
   ]
  },
  {
   "cell_type": "code",
   "execution_count": 5,
   "id": "714c89e9",
   "metadata": {},
   "outputs": [],
   "source": [
    "from gensim.models import KeyedVectors"
   ]
  },
  {
   "cell_type": "code",
   "execution_count": 6,
   "id": "c61698cd",
   "metadata": {},
   "outputs": [],
   "source": [
    "word2vec_model = KeyedVectors.load_word2vec_format('wiki-forms-all-100-cbow-ns-30-it100.txt.gz', binary=False)"
   ]
  },
  {
   "cell_type": "code",
   "execution_count": 7,
   "id": "48fe1ac2",
   "metadata": {},
   "outputs": [
    {
     "data": {
      "text/plain": [
       "<gensim.models.keyedvectors.KeyedVectors at 0x127c10b90>"
      ]
     },
     "execution_count": 7,
     "metadata": {},
     "output_type": "execute_result"
    }
   ],
   "source": [
    "word2vec_model"
   ]
  },
  {
   "cell_type": "code",
   "execution_count": 11,
   "id": "0dfdfbe3",
   "metadata": {},
   "outputs": [],
   "source": [
    "text = \"Ala ma kota\"\n",
    "\n",
    "encode = [word2vec_model[word] for word in text.split()]"
   ]
  },
  {
   "cell_type": "code",
   "execution_count": 12,
   "id": "291ede75",
   "metadata": {},
   "outputs": [
    {
     "data": {
      "text/plain": [
       "[array([ 2.60359 , -0.53379 , -0.418538, -0.567743, -1.828997,  3.992933,\n",
       "         3.004368, -0.910962,  0.458971,  0.270718, -0.51762 ,  5.142121,\n",
       "        -1.192841,  2.031395, -0.659251, -0.480254, -0.093248,  0.107133,\n",
       "         1.641894, -1.490792,  0.423677,  2.674135, -4.119183,  2.790525,\n",
       "         3.60652 ,  1.260155,  0.154874,  0.276685,  1.87403 , -1.119008,\n",
       "        -2.647022,  1.990544, -1.601704, -0.728631,  1.684662, -1.950735,\n",
       "         1.468508,  0.509837, -1.053435,  1.315314, -1.520988,  4.385165,\n",
       "        -6.620793, -0.686365, -1.685816,  0.342647, -0.522114,  0.749273,\n",
       "        -2.049263,  1.286566, -0.529605, -3.33568 , -0.834344, -1.072513,\n",
       "         1.789571,  0.529662,  0.876424,  2.529619,  2.496111, -0.204708,\n",
       "         0.358681,  0.591321, -0.815984,  2.830306, -0.189545,  1.692742,\n",
       "         0.648947, -2.719239,  1.723135,  1.460818, -1.741183, -0.57327 ,\n",
       "        -1.564336, -1.385513, -1.558214, -3.22159 , -2.859038,  2.411288,\n",
       "         1.61544 , -0.036749, -1.586772, -1.380134,  1.802518,  0.094469,\n",
       "        -0.374882, -3.016371,  1.586335,  0.890611,  1.620119, -0.245587,\n",
       "        -4.674662,  2.472036,  1.523542, -2.094754, -0.369858,  0.181587,\n",
       "        -1.547627,  3.068541,  1.269577,  0.34451 ], dtype=float32),\n",
       " array([  5.513919,  -0.312695,   2.367851,  -4.752611,   1.551007,\n",
       "         -6.408514,   5.214167,  -3.961194,  -2.152855, -14.533632,\n",
       "         -7.653389,  -6.851062,   0.513541,  -1.020012,   5.681893,\n",
       "         -3.317671,  -9.358542,  -0.353577,   1.424161,   6.321854,\n",
       "          4.11743 ,  -0.075298,   9.082454,  -3.483027,   6.020405,\n",
       "         -0.771227,  -5.269101,  -1.45204 ,  -1.320748,   0.519184,\n",
       "         -0.755063,   0.548621,  -2.491569,   3.073354,   8.105656,\n",
       "          2.610374,   0.713358,  -5.625875,   1.542062,   2.508144,\n",
       "          1.253119,  -8.087332,  -0.587679,  -5.168279,   8.254786,\n",
       "          2.175691,  -1.24006 ,   2.177515,  -2.292853,  -8.067589,\n",
       "         -5.594547,   0.279743,   3.064324,  -1.512138,  -5.621146,\n",
       "          9.891107,  -0.050029,  -5.447006,   5.352704,  -8.098409,\n",
       "         -1.779127,  -0.344392,  -3.250977,  -2.821894,  -9.628815,\n",
       "          2.028221,   2.060992,  -1.421982,  -0.313502,  -9.934231,\n",
       "          4.228769,   0.872702,  -3.348413,   0.164038,  -8.386196,\n",
       "         -3.404264,  -7.496769,  -0.23375 ,   1.612028,   4.557335,\n",
       "         -6.456683,  -1.92897 ,  -5.748963,  -4.99895 ,   1.278819,\n",
       "         -6.270473,  -0.065647,   1.575374,   6.555889,   5.367555,\n",
       "          3.207019,   0.62666 ,  -9.620713,  -6.659229,   1.6572  ,\n",
       "         -9.214712,   1.203216,   1.082352,   0.557526,  -6.881824],\n",
       "       dtype=float32),\n",
       " array([ 2.69961 , -2.811315, -2.594376,  1.006753,  1.636488,  1.200497,\n",
       "         2.616277, -1.047993,  4.362969,  2.346888,  0.190253,  0.037268,\n",
       "        -1.70379 ,  4.316296, -1.777776,  0.109478, -0.252979,  0.097342,\n",
       "         3.915739,  2.45104 , -0.05047 ,  1.191437,  1.535808,  3.449179,\n",
       "        -3.283988,  4.038226, -1.005532,  1.314607,  0.852055, -1.015947,\n",
       "        -0.167322, -1.388402, -2.570808, -0.024229,  0.481946, -4.092862,\n",
       "         0.737141, -1.638664,  1.761188,  1.533105, -3.5636  ,  3.086382,\n",
       "        -5.073223, -3.391119,  0.117115, -1.470022,  0.221202,  1.023782,\n",
       "         2.937875, -2.410143, -4.090328, -4.784055, -1.415879, -1.779918,\n",
       "         0.574915,  2.087559,  3.74843 ,  2.104687, -0.697446, -2.938743,\n",
       "         1.067261, -4.811392, -0.562262,  4.497703, -2.102763, -0.212159,\n",
       "        -0.783601, -1.003588,  3.892442, -0.968215,  2.749358,  1.92324 ,\n",
       "        -0.831026, -0.305171,  3.946778, -1.460934, -0.95556 , -1.137486,\n",
       "        -2.703162,  2.535029,  1.397322,  2.343902, -0.594231, -1.123478,\n",
       "        -0.238081, -2.574919, -1.181948, -0.374027, -2.795752,  2.630385,\n",
       "        -1.013425,  1.06082 ,  0.829304, -2.602627,  3.536113, -1.930422,\n",
       "         1.356752,  1.842892,  0.139236, -3.608871], dtype=float32)]"
      ]
     },
     "execution_count": 12,
     "metadata": {},
     "output_type": "execute_result"
    }
   ],
   "source": [
    "encode"
   ]
  },
  {
   "cell_type": "code",
   "execution_count": 8,
   "id": "12338f6d",
   "metadata": {},
   "outputs": [
    {
     "data": {
      "text/plain": [
       "array([ 2.556872,  3.016202,  1.341352, -0.296617,  1.487371,  2.657528,\n",
       "       -3.147548,  0.904789,  3.331265, -1.382941, -1.957119,  0.096157,\n",
       "        1.998081,  6.033292, -1.769325, -2.343697, -4.029065,  9.055704,\n",
       "        2.468241,  2.156334,  4.05997 , -3.280162, -7.082334, -1.680108,\n",
       "       -4.101147, -2.248774, -2.508852,  4.602365,  2.489758,  3.700083,\n",
       "       -2.901632,  1.26614 ,  0.398787, -2.246749,  3.065425, -2.838281,\n",
       "        0.539788,  0.363134,  3.505548, -2.425144,  0.816681, -0.928684,\n",
       "       -3.524406, -0.287948,  5.3212  , -3.676133, -3.609464,  3.185938,\n",
       "       -1.579331,  1.425323,  1.221283, -0.397343,  1.213347, -1.154641,\n",
       "        5.246403, -1.284907,  5.472346,  0.265039, -6.560622, -2.674489,\n",
       "       -2.297376,  1.193259,  0.234391, -0.868071,  3.321518, -2.153233,\n",
       "       -5.357116, -6.564101,  2.353112,  5.653057,  5.247916,  1.126638,\n",
       "        1.715316, -0.273689,  1.2469  , -4.295434, -0.050897,  4.484003,\n",
       "       -5.674363, -4.953731, -3.055965, -1.356919, -0.717725, -1.146325,\n",
       "        3.035704, -5.323717, -2.272518,  2.121751, -0.574943, -1.782328,\n",
       "        4.267783,  0.791024,  0.871374, -1.237017, -4.246349, -1.927513,\n",
       "        4.797012, -0.975624, -2.344221,  1.747037], dtype=float32)"
      ]
     },
     "execution_count": 8,
     "metadata": {},
     "output_type": "execute_result"
    }
   ],
   "source": [
    "word2vec_model['komputer']"
   ]
  },
  {
   "cell_type": "code",
   "execution_count": 14,
   "id": "762c8f16",
   "metadata": {},
   "outputs": [
    {
     "data": {
      "text/plain": [
       "(100,)"
      ]
     },
     "execution_count": 14,
     "metadata": {},
     "output_type": "execute_result"
    }
   ],
   "source": [
    "word2vec_model['kot'].shape"
   ]
  },
  {
   "cell_type": "code",
   "execution_count": 16,
   "id": "8d4ca250",
   "metadata": {},
   "outputs": [
    {
     "data": {
      "text/plain": [
       "[('kot', 1.0),\n",
       " ('Gołąb', 0.7597211599349976),\n",
       " ('piesek', 0.7462971806526184),\n",
       " ('Wilk', 0.7396236062049866),\n",
       " ('chudy', 0.7388879656791687),\n",
       " ('słoń', 0.7344905138015747),\n",
       " ('królik', 0.7295685410499573),\n",
       " ('pies', 0.7187919616699219),\n",
       " ('Kruk', 0.7150323390960693),\n",
       " ('ptaszek', 0.7124853134155273)]"
      ]
     },
     "execution_count": 16,
     "metadata": {},
     "output_type": "execute_result"
    }
   ],
   "source": [
    "word2vec_model.similar_by_vector(word2vec_model['kot'])"
   ]
  },
  {
   "cell_type": "code",
   "execution_count": 17,
   "id": "9171130e",
   "metadata": {},
   "outputs": [
    {
     "data": {
      "text/plain": [
       "[('koń', 0.8431771993637085),\n",
       " ('ptak', 0.7892438173294067),\n",
       " ('smok', 0.7819583415985107),\n",
       " ('myśliwy', 0.7620030045509338),\n",
       " ('królik', 0.7560844421386719),\n",
       " ('wąż', 0.741938591003418),\n",
       " ('pająk', 0.7307115197181702),\n",
       " ('kot', 0.7187919616699219),\n",
       " ('stwór', 0.7162348628044128),\n",
       " ('pirat', 0.7134245038032532)]"
      ]
     },
     "execution_count": 17,
     "metadata": {},
     "output_type": "execute_result"
    }
   ],
   "source": [
    "word2vec_model.similar_by_key(\"pies\")"
   ]
  },
  {
   "cell_type": "code",
   "execution_count": 18,
   "id": "4f872c86",
   "metadata": {},
   "outputs": [],
   "source": [
    "from scipy.spatial.distance import cosine"
   ]
  },
  {
   "cell_type": "code",
   "execution_count": 30,
   "id": "cd1e2b2d",
   "metadata": {},
   "outputs": [
    {
     "data": {
      "text/plain": [
       "0.7187920212745667"
      ]
     },
     "execution_count": 30,
     "metadata": {},
     "output_type": "execute_result"
    }
   ],
   "source": [
    "1 - cosine(word2vec_model['pies'], word2vec_model['kot'])"
   ]
  },
  {
   "cell_type": "code",
   "execution_count": 31,
   "id": "43fd0d82",
   "metadata": {},
   "outputs": [
    {
     "data": {
      "text/plain": [
       "0.003615056164562702"
      ]
     },
     "execution_count": 31,
     "metadata": {},
     "output_type": "execute_result"
    }
   ],
   "source": [
    "1 - cosine(word2vec_model['klucz'], word2vec_model['czapka'])"
   ]
  },
  {
   "cell_type": "code",
   "execution_count": 32,
   "id": "333e7313",
   "metadata": {},
   "outputs": [
    {
     "data": {
      "text/plain": [
       "array([0.718792  , 0.99999994], dtype=float32)"
      ]
     },
     "execution_count": 32,
     "metadata": {},
     "output_type": "execute_result"
    }
   ],
   "source": [
    "1 - word2vec_model.distances('pies', ['kot', 'pies'])"
   ]
  },
  {
   "cell_type": "code",
   "execution_count": 15,
   "id": "214f62f6",
   "metadata": {},
   "outputs": [
    {
     "data": {
      "text/plain": [
       "[('mikroprocesor', 0.8413556218147278),\n",
       " ('procesor', 0.8408359289169312),\n",
       " ('mikrokomputer', 0.7868935465812683),\n",
       " ('serwer', 0.7859148979187012),\n",
       " ('sterownik', 0.7709600925445557),\n",
       " ('odbiornik', 0.7664448618888855),\n",
       " ('modem', 0.76606285572052),\n",
       " ('automat', 0.7601091265678406),\n",
       " ('interfejs', 0.7560226321220398),\n",
       " ('moduł', 0.7477715015411377)]"
      ]
     },
     "execution_count": 15,
     "metadata": {},
     "output_type": "execute_result"
    }
   ],
   "source": [
    "word2vec_model.most_similar(\"komputer\")"
   ]
  },
  {
   "cell_type": "code",
   "execution_count": 33,
   "id": "a3a053b1",
   "metadata": {},
   "outputs": [
    {
     "data": {
      "text/plain": [
       "[('królowa', 0.8121304512023926), ('cesarzowa', 0.7185278534889221)]"
      ]
     },
     "execution_count": 33,
     "metadata": {},
     "output_type": "execute_result"
    }
   ],
   "source": [
    "## Kobieta + Król - Mężczyzna => \n",
    "word2vec_model.most_similar(positive=['kobieta', 'król'], negative=['mężczyzna'], topn=2)"
   ]
  },
  {
   "cell_type": "code",
   "execution_count": 34,
   "id": "52f96958",
   "metadata": {},
   "outputs": [
    {
     "data": {
      "text/plain": [
       "226396"
      ]
     },
     "execution_count": 34,
     "metadata": {},
     "output_type": "execute_result"
    }
   ],
   "source": [
    "len(word2vec_model.index_to_key)"
   ]
  },
  {
   "cell_type": "code",
   "execution_count": 35,
   "id": "76a1417b",
   "metadata": {},
   "outputs": [
    {
     "data": {
      "text/plain": [
       "['w', 'i', 'na', 'z', 'do']"
      ]
     },
     "execution_count": 35,
     "metadata": {},
     "output_type": "execute_result"
    }
   ],
   "source": [
    "word2vec_model.index_to_key[:5]"
   ]
  },
  {
   "cell_type": "code",
   "execution_count": 36,
   "id": "8cb72461",
   "metadata": {},
   "outputs": [
    {
     "data": {
      "text/plain": [
       "array([  2.340531,   4.042009,   1.379964,  -2.570875,  -6.386054,\n",
       "         2.563526,  -2.15919 ,  -5.862146,   0.900218,   4.766161,\n",
       "         6.316826,  -3.465864,   4.536585,   5.025024,   2.033738,\n",
       "         5.342262,  -9.382997,   2.485591,   9.384068,  -6.73937 ,\n",
       "         6.684585,   4.521341,   0.503903,   5.57772 ,  -1.284685,\n",
       "        -2.736128,   3.997064,  -1.389462,   2.380089,   1.208408,\n",
       "        -2.977874,  -4.645787,   0.359989,   5.398995, -13.140451,\n",
       "        -1.73424 ,  -0.928283,  -6.178953,  -5.871259,  -0.229391,\n",
       "        -6.043469,  -1.246072,  -0.312358,  -0.607806,   5.411756,\n",
       "       -11.643624,   7.283361,  -3.326613,   4.791219,   4.176166,\n",
       "         2.003737,  -7.958755,   6.639453,   4.922795,   5.656033,\n",
       "        -2.38712 ,  -7.016893,  -1.731023,   8.705477,   6.712057,\n",
       "        -0.108324,   1.07114 ,   1.748102,   1.65885 ,   5.361063,\n",
       "         1.075046,   1.301678,   2.086038,   0.717669,   0.452681,\n",
       "         4.019646,   1.437227,   8.210261,   3.675681,   0.358452,\n",
       "        -0.922227,  -1.88483 ,  -5.797983,   4.062846,  -5.404707,\n",
       "         3.946038,   3.876417,  -2.806873,  -8.07345 ,   0.975951,\n",
       "         8.97326 ,  -4.175491,   1.125358,  -7.368661,   2.061484,\n",
       "        -6.022151,  -3.587339,   1.358741,   5.343403,  -7.125355,\n",
       "         0.891223,   7.08285 ,   2.867014,  -6.19289 ,   0.415801],\n",
       "      dtype=float32)"
      ]
     },
     "execution_count": 36,
     "metadata": {},
     "output_type": "execute_result"
    }
   ],
   "source": [
    "word2vec_model['studia']"
   ]
  },
  {
   "cell_type": "markdown",
   "id": "d0742931",
   "metadata": {},
   "source": [
    "### Własny embedding"
   ]
  },
  {
   "cell_type": "code",
   "execution_count": 80,
   "id": "19f27f24",
   "metadata": {},
   "outputs": [],
   "source": [
    "sentences = \"\"\"Beautiful is better than ugly.\n",
    "Explicit is better than implicit.\n",
    "Simple is better than complex.\n",
    "Complex is better than complicated.\n",
    "Flat is better than nested.\n",
    "Sparse is better than dense.\n",
    "Readability counts.\n",
    "Special cases aren't special enough to break the rules.\n",
    "Although practicality beats purity.\n",
    "Errors should never pass silently.\n",
    "Unless explicitly silenced.\n",
    "In the face of ambiguity, refuse the temptation to guess.\n",
    "There should be one-- and preferably only one --obvious way to do it.\n",
    "Although that way may not be obvious at first unless you're Dutch.\n",
    "Now is better than never.\n",
    "Although never is often better than *right* now.\n",
    "If the implementation is hard to explain, it's a bad idea.\n",
    "If the implementation is easy to explain, it may be a good idea.\n",
    "Namespaces are one honking great idea -- let's do more of those!\"\"\""
   ]
  },
  {
   "cell_type": "markdown",
   "id": "990fb6fd",
   "metadata": {},
   "source": [
    "#### Przygotowanie"
   ]
  },
  {
   "cell_type": "code",
   "execution_count": 81,
   "id": "aed68841",
   "metadata": {},
   "outputs": [],
   "source": [
    "sentences = sentences.split('\\n')"
   ]
  },
  {
   "cell_type": "code",
   "execution_count": 82,
   "id": "db49602e",
   "metadata": {},
   "outputs": [],
   "source": [
    "import string\n",
    "sentences = map(lambda chars: \"\".join([char for char in chars if char not in string.punctuation]), sentences)\n"
   ]
  },
  {
   "cell_type": "code",
   "execution_count": 83,
   "id": "84fbff9c",
   "metadata": {},
   "outputs": [],
   "source": [
    "sentences = list(sentences)"
   ]
  },
  {
   "cell_type": "code",
   "execution_count": 84,
   "id": "08207188",
   "metadata": {},
   "outputs": [
    {
     "data": {
      "text/plain": [
       "['Beautiful is better than ugly',\n",
       " 'Explicit is better than implicit',\n",
       " 'Simple is better than complex',\n",
       " 'Complex is better than complicated',\n",
       " 'Flat is better than nested',\n",
       " 'Sparse is better than dense',\n",
       " 'Readability counts',\n",
       " 'Special cases arent special enough to break the rules',\n",
       " 'Although practicality beats purity',\n",
       " 'Errors should never pass silently',\n",
       " 'Unless explicitly silenced',\n",
       " 'In the face of ambiguity refuse the temptation to guess',\n",
       " 'There should be one and preferably only one obvious way to do it',\n",
       " 'Although that way may not be obvious at first unless youre Dutch',\n",
       " 'Now is better than never',\n",
       " 'Although never is often better than right now',\n",
       " 'If the implementation is hard to explain its a bad idea',\n",
       " 'If the implementation is easy to explain it may be a good idea',\n",
       " 'Namespaces are one honking great idea  lets do more of those']"
      ]
     },
     "execution_count": 84,
     "metadata": {},
     "output_type": "execute_result"
    }
   ],
   "source": [
    "sentences"
   ]
  },
  {
   "cell_type": "code",
   "execution_count": 45,
   "id": "781fb03f",
   "metadata": {},
   "outputs": [],
   "source": [
    "import re\n",
    "sentences = list(map(lambda sent: re.sub('[^A-Za-z0-9]+', ' ', sent), sentences)) #remove all non A-Z characters"
   ]
  },
  {
   "cell_type": "code",
   "execution_count": 85,
   "id": "9763dea2",
   "metadata": {},
   "outputs": [
    {
     "data": {
      "text/plain": [
       "['Beautiful is better than ugly',\n",
       " 'Explicit is better than implicit',\n",
       " 'Simple is better than complex',\n",
       " 'Complex is better than complicated',\n",
       " 'Flat is better than nested',\n",
       " 'Sparse is better than dense',\n",
       " 'Readability counts',\n",
       " 'Special cases arent special enough to break the rules',\n",
       " 'Although practicality beats purity',\n",
       " 'Errors should never pass silently',\n",
       " 'Unless explicitly silenced',\n",
       " 'In the face of ambiguity refuse the temptation to guess',\n",
       " 'There should be one and preferably only one obvious way to do it',\n",
       " 'Although that way may not be obvious at first unless youre Dutch',\n",
       " 'Now is better than never',\n",
       " 'Although never is often better than right now',\n",
       " 'If the implementation is hard to explain its a bad idea',\n",
       " 'If the implementation is easy to explain it may be a good idea',\n",
       " 'Namespaces are one honking great idea  lets do more of those']"
      ]
     },
     "execution_count": 85,
     "metadata": {},
     "output_type": "execute_result"
    }
   ],
   "source": [
    "sentences"
   ]
  },
  {
   "cell_type": "code",
   "execution_count": 86,
   "id": "a3201f69",
   "metadata": {},
   "outputs": [],
   "source": [
    "sentences = list(map(lambda sent: sent.lower(), sentences))"
   ]
  },
  {
   "cell_type": "code",
   "execution_count": 87,
   "id": "4458d506",
   "metadata": {},
   "outputs": [
    {
     "data": {
      "text/plain": [
       "['beautiful is better than ugly',\n",
       " 'explicit is better than implicit',\n",
       " 'simple is better than complex',\n",
       " 'complex is better than complicated',\n",
       " 'flat is better than nested',\n",
       " 'sparse is better than dense',\n",
       " 'readability counts',\n",
       " 'special cases arent special enough to break the rules',\n",
       " 'although practicality beats purity',\n",
       " 'errors should never pass silently',\n",
       " 'unless explicitly silenced',\n",
       " 'in the face of ambiguity refuse the temptation to guess',\n",
       " 'there should be one and preferably only one obvious way to do it',\n",
       " 'although that way may not be obvious at first unless youre dutch',\n",
       " 'now is better than never',\n",
       " 'although never is often better than right now',\n",
       " 'if the implementation is hard to explain its a bad idea',\n",
       " 'if the implementation is easy to explain it may be a good idea',\n",
       " 'namespaces are one honking great idea  lets do more of those']"
      ]
     },
     "execution_count": 87,
     "metadata": {},
     "output_type": "execute_result"
    }
   ],
   "source": [
    "sentences"
   ]
  },
  {
   "cell_type": "code",
   "execution_count": 88,
   "id": "c9e1112a",
   "metadata": {},
   "outputs": [
    {
     "name": "stdout",
     "output_type": "stream",
     "text": [
      "Requirement already satisfied: keras in /usr/local/lib/python3.11/site-packages (2.11.0)\n",
      "\n",
      "\u001b[1m[\u001b[0m\u001b[34;49mnotice\u001b[0m\u001b[1;39;49m]\u001b[0m\u001b[39;49m A new release of pip available: \u001b[0m\u001b[31;49m22.3.1\u001b[0m\u001b[39;49m -> \u001b[0m\u001b[32;49m23.0\u001b[0m\n",
      "\u001b[1m[\u001b[0m\u001b[34;49mnotice\u001b[0m\u001b[1;39;49m]\u001b[0m\u001b[39;49m To update, run: \u001b[0m\u001b[32;49mpython3.11 -m pip install --upgrade pip\u001b[0m\n",
      "Note: you may need to restart the kernel to use updated packages.\n"
     ]
    }
   ],
   "source": [
    "pip install keras"
   ]
  },
  {
   "cell_type": "code",
   "execution_count": 89,
   "id": "c418752c",
   "metadata": {},
   "outputs": [
    {
     "data": {
      "text/plain": [
       "['beautiful is better than ugly',\n",
       " 'explicit is better than implicit',\n",
       " 'simple is better than complex',\n",
       " 'complex is better than complicated',\n",
       " 'flat is better than nested',\n",
       " 'sparse is better than dense',\n",
       " 'readability counts',\n",
       " 'special cases arent special enough to break the rules',\n",
       " 'although practicality beats purity',\n",
       " 'errors should never pass silently',\n",
       " 'unless explicitly silenced',\n",
       " 'in the face of ambiguity refuse the temptation to guess',\n",
       " 'there should be one and preferably only one obvious way to do it',\n",
       " 'although that way may not be obvious at first unless youre dutch',\n",
       " 'now is better than never',\n",
       " 'although never is often better than right now',\n",
       " 'if the implementation is hard to explain its a bad idea',\n",
       " 'if the implementation is easy to explain it may be a good idea',\n",
       " 'namespaces are one honking great idea  lets do more of those']"
      ]
     },
     "execution_count": 89,
     "metadata": {},
     "output_type": "execute_result"
    }
   ],
   "source": [
    "[doc for doc in sentences]"
   ]
  },
  {
   "cell_type": "code",
   "execution_count": 90,
   "id": "790e06b5",
   "metadata": {},
   "outputs": [],
   "source": [
    "test_sentences = [\n",
    "    'Ala ma kota a kot ma mleko',\n",
    "    'Krzyś ma psa a pies zabawkę',\n",
    "    \"Ala ma psa i lubi spacery\"\n",
    "]"
   ]
  },
  {
   "cell_type": "code",
   "execution_count": 93,
   "id": "a26b8dcb",
   "metadata": {},
   "outputs": [],
   "source": [
    "test_sentences_as_list = list(map(lambda x: x.split(), test_sentences))"
   ]
  },
  {
   "cell_type": "code",
   "execution_count": 94,
   "id": "80c0c88e",
   "metadata": {},
   "outputs": [
    {
     "data": {
      "text/plain": [
       "[['Ala', 'ma', 'kota', 'a', 'kot', 'ma', 'mleko'],\n",
       " ['Krzyś', 'ma', 'psa', 'a', 'pies', 'zabawkę'],\n",
       " ['Ala', 'ma', 'psa', 'i', 'lubi', 'spacery']]"
      ]
     },
     "execution_count": 94,
     "metadata": {},
     "output_type": "execute_result"
    }
   ],
   "source": [
    "test_sentences_as_list"
   ]
  },
  {
   "cell_type": "code",
   "execution_count": 97,
   "id": "f1d86b8d",
   "metadata": {},
   "outputs": [],
   "source": [
    "as_list = [sent.split() for sent in sentences]"
   ]
  },
  {
   "cell_type": "code",
   "execution_count": 98,
   "id": "0a13f16f",
   "metadata": {},
   "outputs": [],
   "source": [
    "from gensim.models import Word2Vec\n",
    "w2v_model = Word2Vec(min_count=1,\n",
    "                     window=2,\n",
    "                     vector_size=4,\n",
    "                     workers=1)"
   ]
  },
  {
   "cell_type": "code",
   "execution_count": 99,
   "id": "ea73ceb9",
   "metadata": {},
   "outputs": [],
   "source": [
    "w2v_model.build_vocab(as_list, progress_per=1000)"
   ]
  },
  {
   "cell_type": "code",
   "execution_count": 100,
   "id": "b01b6a55",
   "metadata": {},
   "outputs": [
    {
     "data": {
      "text/plain": [
       "({'is': 0,\n",
       "  'better': 1,\n",
       "  'than': 2,\n",
       "  'the': 3,\n",
       "  'to': 4,\n",
       "  'idea': 5,\n",
       "  'never': 6,\n",
       "  'although': 7,\n",
       "  'be': 8,\n",
       "  'one': 9,\n",
       "  'obvious': 10,\n",
       "  'it': 11,\n",
       "  'do': 12,\n",
       "  'way': 13,\n",
       "  'special': 14,\n",
       "  'now': 15,\n",
       "  'of': 16,\n",
       "  'should': 17,\n",
       "  'may': 18,\n",
       "  'unless': 19,\n",
       "  'a': 20,\n",
       "  'if': 21,\n",
       "  'implementation': 22,\n",
       "  'explain': 23,\n",
       "  'complex': 24,\n",
       "  'dense': 25,\n",
       "  'ugly': 26,\n",
       "  'explicit': 27,\n",
       "  'errors': 28,\n",
       "  'purity': 29,\n",
       "  'implicit': 30,\n",
       "  'beats': 31,\n",
       "  'practicality': 32,\n",
       "  'simple': 33,\n",
       "  'rules': 34,\n",
       "  'break': 35,\n",
       "  'complicated': 36,\n",
       "  'readability': 37,\n",
       "  'enough': 38,\n",
       "  'flat': 39,\n",
       "  'nested': 40,\n",
       "  'arent': 41,\n",
       "  'sparse': 42,\n",
       "  'cases': 43,\n",
       "  'pass': 44,\n",
       "  'counts': 45,\n",
       "  'those': 46,\n",
       "  'ambiguity': 47,\n",
       "  'silently': 48,\n",
       "  'explicitly': 49,\n",
       "  'lets': 50,\n",
       "  'great': 51,\n",
       "  'honking': 52,\n",
       "  'are': 53,\n",
       "  'namespaces': 54,\n",
       "  'good': 55,\n",
       "  'easy': 56,\n",
       "  'bad': 57,\n",
       "  'its': 58,\n",
       "  'hard': 59,\n",
       "  'right': 60,\n",
       "  'often': 61,\n",
       "  'dutch': 62,\n",
       "  'youre': 63,\n",
       "  'first': 64,\n",
       "  'at': 65,\n",
       "  'not': 66,\n",
       "  'that': 67,\n",
       "  'only': 68,\n",
       "  'preferably': 69,\n",
       "  'and': 70,\n",
       "  'there': 71,\n",
       "  'guess': 72,\n",
       "  'temptation': 73,\n",
       "  'refuse': 74,\n",
       "  'more': 75,\n",
       "  'face': 76,\n",
       "  'in': 77,\n",
       "  'silenced': 78,\n",
       "  'beautiful': 79},\n",
       " ['is',\n",
       "  'better',\n",
       "  'than',\n",
       "  'the',\n",
       "  'to',\n",
       "  'idea',\n",
       "  'never',\n",
       "  'although',\n",
       "  'be',\n",
       "  'one',\n",
       "  'obvious',\n",
       "  'it',\n",
       "  'do',\n",
       "  'way',\n",
       "  'special',\n",
       "  'now',\n",
       "  'of',\n",
       "  'should',\n",
       "  'may',\n",
       "  'unless',\n",
       "  'a',\n",
       "  'if',\n",
       "  'implementation',\n",
       "  'explain',\n",
       "  'complex',\n",
       "  'dense',\n",
       "  'ugly',\n",
       "  'explicit',\n",
       "  'errors',\n",
       "  'purity',\n",
       "  'implicit',\n",
       "  'beats',\n",
       "  'practicality',\n",
       "  'simple',\n",
       "  'rules',\n",
       "  'break',\n",
       "  'complicated',\n",
       "  'readability',\n",
       "  'enough',\n",
       "  'flat',\n",
       "  'nested',\n",
       "  'arent',\n",
       "  'sparse',\n",
       "  'cases',\n",
       "  'pass',\n",
       "  'counts',\n",
       "  'those',\n",
       "  'ambiguity',\n",
       "  'silently',\n",
       "  'explicitly',\n",
       "  'lets',\n",
       "  'great',\n",
       "  'honking',\n",
       "  'are',\n",
       "  'namespaces',\n",
       "  'good',\n",
       "  'easy',\n",
       "  'bad',\n",
       "  'its',\n",
       "  'hard',\n",
       "  'right',\n",
       "  'often',\n",
       "  'dutch',\n",
       "  'youre',\n",
       "  'first',\n",
       "  'at',\n",
       "  'not',\n",
       "  'that',\n",
       "  'only',\n",
       "  'preferably',\n",
       "  'and',\n",
       "  'there',\n",
       "  'guess',\n",
       "  'temptation',\n",
       "  'refuse',\n",
       "  'more',\n",
       "  'face',\n",
       "  'in',\n",
       "  'silenced',\n",
       "  'beautiful'])"
      ]
     },
     "execution_count": 100,
     "metadata": {},
     "output_type": "execute_result"
    }
   ],
   "source": [
    "w2v_model.wv.key_to_index, w2v_model.wv.index_to_key"
   ]
  },
  {
   "cell_type": "code",
   "execution_count": 101,
   "id": "2dc33a24",
   "metadata": {},
   "outputs": [
    {
     "data": {
      "text/plain": [
       "(1436, 4080)"
      ]
     },
     "execution_count": 101,
     "metadata": {},
     "output_type": "execute_result"
    }
   ],
   "source": [
    "w2v_model.train(as_list, total_examples=w2v_model.corpus_count, epochs=30, report_delay=1)"
   ]
  },
  {
   "cell_type": "code",
   "execution_count": 104,
   "id": "e2a3d070",
   "metadata": {},
   "outputs": [
    {
     "data": {
      "text/plain": [
       "[('may', 0.9384155869483948),\n",
       " ('in', 0.8307865858078003),\n",
       " ('better', 0.8039076924324036),\n",
       " ('at', 0.7229748964309692),\n",
       " ('silenced', 0.702760636806488)]"
      ]
     },
     "execution_count": 104,
     "metadata": {},
     "output_type": "execute_result"
    }
   ],
   "source": [
    "w2v_model.wv.most_similar('simple', topn=5)"
   ]
  },
  {
   "cell_type": "markdown",
   "id": "e26f22fe",
   "metadata": {},
   "source": [
    "#### na przykładzie"
   ]
  },
  {
   "cell_type": "code",
   "execution_count": 106,
   "id": "0f168599",
   "metadata": {},
   "outputs": [],
   "source": [
    "from gensim.test.utils import common_texts\n",
    "from gensim.models import Word2Vec"
   ]
  },
  {
   "cell_type": "code",
   "execution_count": 107,
   "id": "aa5b7127",
   "metadata": {},
   "outputs": [
    {
     "data": {
      "text/plain": [
       "[['human', 'interface', 'computer'],\n",
       " ['survey', 'user', 'computer', 'system', 'response', 'time'],\n",
       " ['eps', 'user', 'interface', 'system'],\n",
       " ['system', 'human', 'system', 'eps'],\n",
       " ['user', 'response', 'time'],\n",
       " ['trees'],\n",
       " ['graph', 'trees'],\n",
       " ['graph', 'minors', 'trees'],\n",
       " ['graph', 'minors', 'survey']]"
      ]
     },
     "execution_count": 107,
     "metadata": {},
     "output_type": "execute_result"
    }
   ],
   "source": [
    "common_texts"
   ]
  },
  {
   "cell_type": "code",
   "execution_count": 108,
   "id": "788d5244",
   "metadata": {},
   "outputs": [],
   "source": [
    "model = Word2Vec(vector_size=100, window=5, min_count=1, workers=4)"
   ]
  },
  {
   "cell_type": "code",
   "execution_count": 109,
   "id": "775bb4e9",
   "metadata": {},
   "outputs": [],
   "source": [
    "model.build_vocab(common_texts)"
   ]
  },
  {
   "cell_type": "code",
   "execution_count": 110,
   "id": "40fd391e",
   "metadata": {},
   "outputs": [
    {
     "data": {
      "text/plain": [
       "(3, 29)"
      ]
     },
     "execution_count": 110,
     "metadata": {},
     "output_type": "execute_result"
    }
   ],
   "source": [
    "model.train(common_texts, total_examples=model.corpus_count, epochs=1)"
   ]
  },
  {
   "cell_type": "code",
   "execution_count": 111,
   "id": "b1054314",
   "metadata": {},
   "outputs": [],
   "source": [
    "vector = model.wv['computer']"
   ]
  },
  {
   "cell_type": "code",
   "execution_count": 112,
   "id": "14c3b955",
   "metadata": {},
   "outputs": [
    {
     "data": {
      "text/plain": [
       "[('system', 0.21617141366004944),\n",
       " ('survey', 0.044689226895570755),\n",
       " ('interface', 0.015025208704173565)]"
      ]
     },
     "execution_count": 112,
     "metadata": {},
     "output_type": "execute_result"
    }
   ],
   "source": [
    "model.wv.most_similar('computer', topn=3)"
   ]
  },
  {
   "cell_type": "code",
   "execution_count": 113,
   "id": "7b91b220",
   "metadata": {},
   "outputs": [],
   "source": [
    "word_vectors = model.wv"
   ]
  },
  {
   "cell_type": "code",
   "execution_count": 114,
   "id": "0c471093",
   "metadata": {},
   "outputs": [],
   "source": [
    "word_vectors.save(\"word2vec.wordvectors\")"
   ]
  },
  {
   "cell_type": "code",
   "execution_count": 115,
   "id": "689a9ba4",
   "metadata": {},
   "outputs": [],
   "source": [
    "from gensim.models import KeyedVectors"
   ]
  },
  {
   "cell_type": "code",
   "execution_count": 116,
   "id": "8be6afba",
   "metadata": {},
   "outputs": [],
   "source": [
    "wv_loaded = KeyedVectors.load(\"word2vec.wordvectors\", mmap='r')"
   ]
  },
  {
   "cell_type": "code",
   "execution_count": 117,
   "id": "0d2e49c5",
   "metadata": {},
   "outputs": [
    {
     "data": {
      "text/plain": [
       "[('computer', 0.21617142856121063),\n",
       " ('response', 0.09291722625494003),\n",
       " ('human', 0.07963486760854721)]"
      ]
     },
     "execution_count": 117,
     "metadata": {},
     "output_type": "execute_result"
    }
   ],
   "source": [
    "wv_loaded.most_similar('system', topn=3)"
   ]
  },
  {
   "cell_type": "code",
   "execution_count": null,
   "id": "7f4aa023",
   "metadata": {},
   "outputs": [],
   "source": []
  }
 ],
 "metadata": {
  "kernelspec": {
   "display_name": "Python 3.11.1 64-bit",
   "language": "python",
   "name": "python3"
  },
  "language_info": {
   "codemirror_mode": {
    "name": "ipython",
    "version": 3
   },
   "file_extension": ".py",
   "mimetype": "text/x-python",
   "name": "python",
   "nbconvert_exporter": "python",
   "pygments_lexer": "ipython3",
   "version": "3.11.1"
  },
  "vscode": {
   "interpreter": {
    "hash": "1a1af0ee75eeea9e2e1ee996c87e7a2b11a0bebd85af04bb136d915cefc0abce"
   }
  }
 },
 "nbformat": 4,
 "nbformat_minor": 5
}

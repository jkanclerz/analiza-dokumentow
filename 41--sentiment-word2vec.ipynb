{
 "cells": [
  {
   "cell_type": "markdown",
   "id": "8d9c477e",
   "metadata": {},
   "source": [
    "[![Open In Colab](https://colab.research.google.com/assets/colab-badge.svg)](https://githubtocolab.com/jkanclerz/analiza-dokumentow/blob/main/41--sentiment-word2vec.ipynb)"
   ]
  },
  {
   "cell_type": "markdown",
   "id": "73964fc2",
   "metadata": {},
   "source": [
    "## Klasyfikacja z wykorzystaniem word embedings"
   ]
  },
  {
   "cell_type": "code",
   "execution_count": null,
   "id": "3df7e791",
   "metadata": {},
   "outputs": [],
   "source": [
    "pip install numpy tensorflow pandas"
   ]
  },
  {
   "cell_type": "code",
   "execution_count": null,
   "id": "1fc000a1",
   "metadata": {},
   "outputs": [],
   "source": [
    "!mkdir -p var\n",
    "!wget http://blog.jkan.pl/polish_sentiment_dataset.csv -O var/polish_sentiment.csv"
   ]
  },
  {
   "cell_type": "code",
   "execution_count": null,
   "id": "6e15e93f",
   "metadata": {},
   "outputs": [],
   "source": [
    "import pandas as pd\n",
    "import numpy as np\n",
    "import tensorflow as tf\n",
    "from tensorflow import keras\n"
   ]
  },
  {
   "cell_type": "code",
   "execution_count": null,
   "id": "b786b4bb",
   "metadata": {},
   "outputs": [],
   "source": [
    "filename = 'var/polish_sentiment.csv'\n",
    "\n",
    "dataset = pd.read_csv(filename, delimiter = \",\")"
   ]
  },
  {
   "cell_type": "code",
   "execution_count": null,
   "id": "164a8114",
   "metadata": {},
   "outputs": [],
   "source": [
    "dataset.describe()"
   ]
  },
  {
   "cell_type": "code",
   "execution_count": null,
   "id": "879e6695",
   "metadata": {},
   "outputs": [],
   "source": [
    "dataset = dataset.drop(columns=['length'])"
   ]
  },
  {
   "cell_type": "code",
   "execution_count": null,
   "id": "311948e2",
   "metadata": {},
   "outputs": [],
   "source": [
    "dataset = dataset[dataset['description'].notnull() & dataset['rate'].notnull() & dataset['rate'] != 0]"
   ]
  },
  {
   "cell_type": "code",
   "execution_count": null,
   "id": "eabc6742",
   "metadata": {},
   "outputs": [],
   "source": [
    "dataset['description'] = dataset['description'].str.lower()"
   ]
  },
  {
   "cell_type": "code",
   "execution_count": null,
   "id": "0b8cef1e",
   "metadata": {},
   "outputs": [],
   "source": [
    "dataset.rate.value_counts()"
   ]
  },
  {
   "cell_type": "code",
   "execution_count": null,
   "id": "6dd163c5",
   "metadata": {},
   "outputs": [],
   "source": [
    "len(dataset[dataset['rate'] == 0])"
   ]
  },
  {
   "cell_type": "code",
   "execution_count": null,
   "id": "f961355e",
   "metadata": {},
   "outputs": [],
   "source": [
    "X = dataset['description']"
   ]
  },
  {
   "cell_type": "code",
   "execution_count": null,
   "id": "56a1b876",
   "metadata": {},
   "outputs": [],
   "source": [
    "y = dataset['rate']"
   ]
  },
  {
   "cell_type": "code",
   "execution_count": null,
   "id": "280f6a63",
   "metadata": {},
   "outputs": [],
   "source": [
    "y = y.map(lambda x: x if x == 1 else 0)"
   ]
  },
  {
   "cell_type": "code",
   "execution_count": null,
   "id": "e8a7c06f",
   "metadata": {},
   "outputs": [],
   "source": [
    "from sklearn.model_selection import train_test_split\n",
    "X_train, X_test, y_train, y_test = train_test_split(X, y, test_size=0.2, random_state=42)\n",
    "\n",
    "X_train, X_val, y_train, y_val = train_test_split(X_train, y_train, test_size=0.2, random_state=42)"
   ]
  },
  {
   "cell_type": "code",
   "execution_count": null,
   "id": "bc727a49",
   "metadata": {},
   "outputs": [],
   "source": [
    "from tensorflow.keras.layers import TextVectorization\n",
    "\n",
    "vectorizer = TextVectorization(max_tokens=20000, output_sequence_length=200)\n",
    "text_ds = tf.data.Dataset.from_tensor_slices(X_train).batch(128)\n",
    "vectorizer.adapt(text_ds)"
   ]
  },
  {
   "cell_type": "code",
   "execution_count": null,
   "id": "f993246e",
   "metadata": {},
   "outputs": [],
   "source": [
    "vectorizer.get_vocabulary()[:10]"
   ]
  },
  {
   "cell_type": "code",
   "execution_count": null,
   "id": "04ca70b7",
   "metadata": {},
   "outputs": [],
   "source": [
    "print(\"X_train shape: \" + str(X_train.shape))\n",
    "print(\"X_test shape: \" + str(X_test.shape))\n",
    "print(\"X_val shape: \" + str(X_val.shape))\n",
    "print(\"y_train shape: \" + str(y_train.shape))\n",
    "print(\"y_test shape: \" + str(y_test.shape))\n",
    "print(\"y_val shape: \" + str(y_val.shape))"
   ]
  },
  {
   "cell_type": "code",
   "execution_count": null,
   "id": "fb3e0ebe",
   "metadata": {},
   "outputs": [],
   "source": [
    "voc = vectorizer.get_vocabulary()\n",
    "word_index = dict(zip(voc, range(len(voc))))"
   ]
  },
  {
   "cell_type": "code",
   "execution_count": null,
   "id": "89d0562b",
   "metadata": {},
   "outputs": [],
   "source": [
    "output = vectorizer([[\"lubię dhl bo szybko dostarczają paczki blef xxxxx\"]])"
   ]
  },
  {
   "cell_type": "code",
   "execution_count": null,
   "id": "531b0467",
   "metadata": {},
   "outputs": [],
   "source": [
    "output.numpy()[0, :6]"
   ]
  },
  {
   "cell_type": "code",
   "execution_count": null,
   "id": "dc46bd0b",
   "metadata": {},
   "outputs": [],
   "source": [
    "!rm -rf var/nkjp*"
   ]
  },
  {
   "cell_type": "code",
   "execution_count": null,
   "id": "5d57afba",
   "metadata": {},
   "outputs": [],
   "source": [
    "!wget http://dsmodels.nlp.ipipan.waw.pl/dsmodels/nkjp+wiki-forms-all-100-skipg-ns.txt.gz -O var/nkjp+wiki-forms-all-100-skipg-ns.txt.gz"
   ]
  },
  {
   "cell_type": "code",
   "execution_count": null,
   "id": "ccaa1529",
   "metadata": {},
   "outputs": [],
   "source": [
    "!gzip -d var/nkjp+wiki-forms-all-100-skipg-ns.txt.gz"
   ]
  },
  {
   "cell_type": "code",
   "execution_count": null,
   "id": "0ef7ec8c",
   "metadata": {},
   "outputs": [],
   "source": [
    "cat var/nkjp+wiki-forms-all-100-skipg-ns.txt | head -n 3"
   ]
  },
  {
   "cell_type": "code",
   "execution_count": null,
   "id": "2b405242",
   "metadata": {},
   "outputs": [],
   "source": [
    "path_to_glove_file = 'var/nkjp+wiki-forms-all-100-skipg-ns.txt'\n",
    "embeddings_index = {}\n",
    "with open(path_to_glove_file) as f:\n",
    "    for line in f:\n",
    "        word, coefs = line.split(maxsplit=1)\n",
    "        coefs = np.fromstring(coefs, \"f\", sep=\" \")\n",
    "        embeddings_index[word] = coefs\n",
    "\n",
    "print(\"Found %s word vectors.\" % len(embeddings_index))\n"
   ]
  },
  {
   "cell_type": "code",
   "execution_count": null,
   "id": "893bd7a9",
   "metadata": {},
   "outputs": [],
   "source": [
    "embeddings_index['lubię']"
   ]
  },
  {
   "cell_type": "code",
   "execution_count": null,
   "id": "e1c242f7",
   "metadata": {},
   "outputs": [],
   "source": [
    "num_tokens = len(voc) + 2\n",
    "embedding_dim = 100\n",
    "hits = 0\n",
    "misses = 0\n",
    "\n",
    "# Prepare embedding matrix\n",
    "embedding_matrix = np.zeros((num_tokens, embedding_dim))"
   ]
  },
  {
   "cell_type": "code",
   "execution_count": null,
   "id": "29fedfeb",
   "metadata": {},
   "outputs": [],
   "source": [
    "embedding_matrix.shape"
   ]
  },
  {
   "cell_type": "code",
   "execution_count": null,
   "id": "8982aee4",
   "metadata": {},
   "outputs": [],
   "source": [
    "for word, i in word_index.items():\n",
    "    embedding_vector = embeddings_index.get(word)\n",
    "    if embedding_vector is not None:\n",
    "        # Words not found in embedding index will be all-zeros.\n",
    "        # This includes the representation for \"padding\" and \"OOV\"\n",
    "        embedding_matrix[i] = embedding_vector\n",
    "        hits += 1\n",
    "    else:\n",
    "        misses += 1\n",
    "print(\"Converted %d words (%d misses)\" % (hits, misses))"
   ]
  },
  {
   "cell_type": "code",
   "execution_count": null,
   "id": "d950b978",
   "metadata": {},
   "outputs": [],
   "source": [
    "from tensorflow.keras.layers import Embedding\n",
    "\n",
    "embedding_layer = Embedding(\n",
    "    num_tokens,\n",
    "    embedding_dim,\n",
    "    embeddings_initializer=keras.initializers.Constant(embedding_matrix),\n",
    "    trainable=False,\n",
    ")"
   ]
  },
  {
   "cell_type": "code",
   "execution_count": null,
   "id": "ec8b2f0b",
   "metadata": {},
   "outputs": [],
   "source": [
    "classes_count = len(list(set(y)))"
   ]
  },
  {
   "cell_type": "code",
   "execution_count": null,
   "id": "cd0b2ece",
   "metadata": {},
   "outputs": [],
   "source": [
    "classes_count"
   ]
  },
  {
   "cell_type": "code",
   "execution_count": null,
   "id": "7b536a0c",
   "metadata": {},
   "outputs": [],
   "source": [
    "from tensorflow.keras import layers\n",
    "\n",
    "int_sequences_input = keras.Input(shape=(None,), dtype=\"int64\")\n",
    "\n",
    "embedded_sequences = embedding_layer(int_sequences_input)\n",
    "\n",
    "x = layers.Conv1D(128, 5, activation=\"relu\")(embedded_sequences)\n",
    "x = layers.MaxPooling1D(5)(x)\n",
    "x = layers.Conv1D(128, 5, activation=\"relu\")(x)\n",
    "x = layers.MaxPooling1D(5)(x)\n",
    "x = layers.Conv1D(128, 5, activation=\"relu\")(x)\n",
    "x = layers.GlobalMaxPooling1D()(x)\n",
    "x = layers.Dense(128, activation=\"relu\")(x)\n",
    "x = layers.Dropout(0.5)(x)\n",
    "preds = layers.Dense(classes_count, activation=\"softmax\")(x)\n",
    "model = keras.Model(int_sequences_input, preds)\n",
    "model.summary()"
   ]
  },
  {
   "cell_type": "code",
   "execution_count": null,
   "id": "762c4ffe",
   "metadata": {},
   "outputs": [],
   "source": [
    "x_train = vectorizer(np.array([[s] for s in X_train])).numpy()\n",
    "x_val = vectorizer(np.array([[s] for s in X_val])).numpy()\n",
    "\n",
    "y_train = np.array(y_train)\n",
    "y_val = np.array(y_val)"
   ]
  },
  {
   "cell_type": "code",
   "execution_count": null,
   "id": "834badc5",
   "metadata": {},
   "outputs": [],
   "source": [
    "x_train[:1][0]"
   ]
  },
  {
   "cell_type": "code",
   "execution_count": null,
   "id": "7de55e08",
   "metadata": {},
   "outputs": [],
   "source": [
    "model.compile(\n",
    "    loss=\"sparse_categorical_crossentropy\", optimizer=\"rmsprop\", metrics=[\"acc\"]\n",
    ")"
   ]
  },
  {
   "cell_type": "code",
   "execution_count": null,
   "id": "5f95449f",
   "metadata": {},
   "outputs": [],
   "source": [
    "model.fit(x_train, y_train, batch_size=64, epochs=3, validation_data=(x_val, y_val))"
   ]
  },
  {
   "cell_type": "code",
   "execution_count": null,
   "id": "52d958ad",
   "metadata": {},
   "outputs": [],
   "source": [
    "string_input = keras.Input(shape=(1,), dtype=\"string\")\n",
    "x = vectorizer(string_input)\n",
    "\n",
    "preds = model(x)\n",
    "end_to_end_model = keras.Model(string_input, preds)\n",
    "\n",
    "probabilities = end_to_end_model.predict(\n",
    "    [\n",
    "        [X[0]],\n",
    "        [X[1]],\n",
    "        ['Nie polecam tego alegrowicza'],\n",
    "        ['Beznadziejny sklep. Przesłali skisłą paletkę do makijażu, bardzo kłopotliwa reklamacja: stos formularzy do wypełnienia i potem jeszcze maile z pytaniami o nr konta do zwrotu. Zrobili zwrot zamiast reklamacji, zero rekompensaty za mój stracony czas i nerwy; ich obsługa klienta to żart.'],\n",
    "        ['Od miesiąca jestem systematycznie spamowany prośbami o opinię.'],\n",
    "        ['Pomysł na to, żeby wysyłać jedno zamówienie na 4 produkty w dwóch osobnych paczkach, które w dodatku przychodzą w różnym czasie jest bez sensu. Szczególnie w czasach, kiedy dba się o ekologię.'],\n",
    "        ['Proszę nie wysyłać mi więcej wiadomości od tej firmy Nie chce dostawać żadnych więcej meilow Zgłaszam to już wcześniej ale jak widać nikt tym się nie zajął... Porażka'],\n",
    "        ['Dostawa dramat prawie tydzień oczekiwania na przesyłkę']\n",
    "    ]\n",
    ")"
   ]
  },
  {
   "cell_type": "code",
   "execution_count": null,
   "id": "9c731b9f",
   "metadata": {},
   "outputs": [],
   "source": [
    "[class_names[np.argmax(x)] for x in probabilities]"
   ]
  },
  {
   "cell_type": "code",
   "execution_count": null,
   "id": "3bd8fe7e",
   "metadata": {},
   "outputs": [],
   "source": []
  }
 ],
 "metadata": {
  "kernelspec": {
   "display_name": "Python 3.11.1 64-bit",
   "language": "python",
   "name": "python3"
  },
  "language_info": {
   "codemirror_mode": {
    "name": "ipython",
    "version": 3
   },
   "file_extension": ".py",
   "mimetype": "text/x-python",
   "name": "python",
   "nbconvert_exporter": "python",
   "pygments_lexer": "ipython3",
   "version": "3.11.1"
  },
  "vscode": {
   "interpreter": {
    "hash": "1a1af0ee75eeea9e2e1ee996c87e7a2b11a0bebd85af04bb136d915cefc0abce"
   }
  }
 },
 "nbformat": 4,
 "nbformat_minor": 5
}

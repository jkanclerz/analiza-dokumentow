{
 "cells": [
  {
   "cell_type": "markdown",
   "metadata": {},
   "source": [
    "[![Open In Colab](https://colab.research.google.com/assets/colab-badge.svg)](https://githubtocolab.com/jkanclerz/analiza-dokumentow/blob/main/12--ocr-pdf.ipynb)"
   ]
  },
  {
   "cell_type": "markdown",
   "metadata": {
    "id": "ll2bEzAfL4sv"
   },
   "source": [
    "## OCR image\n",
    "\n",
    "image or images\n",
    "\n",
    "https://jeroen.github.io/images/testocr.png"
   ]
  },
  {
   "cell_type": "code",
   "execution_count": null,
   "metadata": {
    "colab": {
     "base_uri": "https://localhost:8080/"
    },
    "id": "Fa-WhVL_NMu5",
    "outputId": "1cdc3233-8bbb-4b2c-9cde-bbcea08817e2"
   },
   "outputs": [
    {
     "name": "stdout",
     "output_type": "stream",
     "text": [
      "Reading package lists... Done\n",
      "Building dependency tree       \n",
      "Reading state information... Done\n",
      "The following additional packages will be installed:\n",
      "  tesseract-ocr-eng tesseract-ocr-osd\n",
      "The following NEW packages will be installed:\n",
      "  tesseract-ocr tesseract-ocr-eng tesseract-ocr-osd\n",
      "0 upgraded, 3 newly installed, 0 to remove and 37 not upgraded.\n",
      "Need to get 4,795 kB of archives.\n",
      "After this operation, 15.8 MB of additional disk space will be used.\n",
      "Get:1 http://archive.ubuntu.com/ubuntu bionic/universe amd64 tesseract-ocr-eng all 4.00~git24-0e00fe6-1.2 [1,588 kB]\n",
      "Get:2 http://archive.ubuntu.com/ubuntu bionic/universe amd64 tesseract-ocr-osd all 4.00~git24-0e00fe6-1.2 [2,989 kB]\n",
      "Get:3 http://archive.ubuntu.com/ubuntu bionic/universe amd64 tesseract-ocr amd64 4.00~git2288-10f4998a-2 [218 kB]\n",
      "Fetched 4,795 kB in 0s (19.9 MB/s)\n",
      "debconf: unable to initialize frontend: Dialog\n",
      "debconf: (No usable dialog-like program is installed, so the dialog based frontend cannot be used. at /usr/share/perl5/Debconf/FrontEnd/Dialog.pm line 76, <> line 3.)\n",
      "debconf: falling back to frontend: Readline\n",
      "debconf: unable to initialize frontend: Readline\n",
      "debconf: (This frontend requires a controlling tty.)\n",
      "debconf: falling back to frontend: Teletype\n",
      "dpkg-preconfigure: unable to re-open stdin: \n",
      "Selecting previously unselected package tesseract-ocr-eng.\n",
      "(Reading database ... 155047 files and directories currently installed.)\n",
      "Preparing to unpack .../tesseract-ocr-eng_4.00~git24-0e00fe6-1.2_all.deb ...\n",
      "Unpacking tesseract-ocr-eng (4.00~git24-0e00fe6-1.2) ...\n",
      "Selecting previously unselected package tesseract-ocr-osd.\n",
      "Preparing to unpack .../tesseract-ocr-osd_4.00~git24-0e00fe6-1.2_all.deb ...\n",
      "Unpacking tesseract-ocr-osd (4.00~git24-0e00fe6-1.2) ...\n",
      "Selecting previously unselected package tesseract-ocr.\n",
      "Preparing to unpack .../tesseract-ocr_4.00~git2288-10f4998a-2_amd64.deb ...\n",
      "Unpacking tesseract-ocr (4.00~git2288-10f4998a-2) ...\n",
      "Setting up tesseract-ocr-osd (4.00~git24-0e00fe6-1.2) ...\n",
      "Setting up tesseract-ocr-eng (4.00~git24-0e00fe6-1.2) ...\n",
      "Setting up tesseract-ocr (4.00~git2288-10f4998a-2) ...\n",
      "Processing triggers for man-db (2.8.3-2ubuntu0.1) ...\n"
     ]
    }
   ],
   "source": [
    "!sudo apt install tesseract-ocr"
   ]
  },
  {
   "cell_type": "code",
   "execution_count": 1,
   "metadata": {
    "colab": {
     "base_uri": "https://localhost:8080/"
    },
    "id": "7QKHMJZIL8BE",
    "outputId": "3edef65d-8ff4-472d-cf49-903259ae44aa"
   },
   "outputs": [
    {
     "name": "stdout",
     "output_type": "stream",
     "text": [
      "Collecting pytesseract\n",
      "  Downloading pytesseract-0.3.10-py3-none-any.whl (14 kB)\n",
      "Requirement already satisfied: packaging>=21.3 in /Users/jkanclerz/Library/Python/3.11/lib/python/site-packages (from pytesseract) (23.0)\n",
      "Collecting Pillow>=8.0.0\n",
      "  Downloading Pillow-9.4.0-2-cp311-cp311-macosx_10_10_x86_64.whl (3.3 MB)\n",
      "\u001b[2K     \u001b[90m━━━━━━━━━━━━━━━━━━━━━━━━━━━━━━━━━━━━━━━━\u001b[0m \u001b[32m3.3/3.3 MB\u001b[0m \u001b[31m15.6 MB/s\u001b[0m eta \u001b[36m0:00:00\u001b[0m00:01\u001b[0m00:01\u001b[0m\n",
      "\u001b[?25hInstalling collected packages: Pillow, pytesseract\n",
      "Successfully installed Pillow-9.4.0 pytesseract-0.3.10\n",
      "\n",
      "\u001b[1m[\u001b[0m\u001b[34;49mnotice\u001b[0m\u001b[1;39;49m]\u001b[0m\u001b[39;49m A new release of pip available: \u001b[0m\u001b[31;49m22.3.1\u001b[0m\u001b[39;49m -> \u001b[0m\u001b[32;49m23.0\u001b[0m\n",
      "\u001b[1m[\u001b[0m\u001b[34;49mnotice\u001b[0m\u001b[1;39;49m]\u001b[0m\u001b[39;49m To update, run: \u001b[0m\u001b[32;49mpython3.11 -m pip install --upgrade pip\u001b[0m\n",
      "Note: you may need to restart the kernel to use updated packages.\n"
     ]
    }
   ],
   "source": [
    "pip install pytesseract"
   ]
  },
  {
   "cell_type": "code",
   "execution_count": 3,
   "metadata": {
    "colab": {
     "base_uri": "https://localhost:8080/"
    },
    "id": "vEKcfwFZMAax",
    "outputId": "0b21ff46-6ede-422a-99cb-e7131167607c"
   },
   "outputs": [
    {
     "name": "stdout",
     "output_type": "stream",
     "text": [
      "--2023-02-10 22:54:37--  https://jeroen.github.io/images/testocr.png\n",
      "Resolving jeroen.github.io (jeroen.github.io)... 185.199.109.153, 185.199.111.153, 185.199.108.153, ...\n",
      "Connecting to jeroen.github.io (jeroen.github.io)|185.199.109.153|:443... connected.\n",
      "HTTP request sent, awaiting response... 200 OK\n",
      "Length: 23359 (23K) [image/png]\n",
      "Saving to: ‘var/image.png’\n",
      "\n",
      "var/image.png       100%[===================>]  22,81K  --.-KB/s    in 0,003s  \n",
      "\n",
      "2023-02-10 22:54:37 (7,52 MB/s) - ‘var/image.png’ saved [23359/23359]\n",
      "\n"
     ]
    }
   ],
   "source": [
    "!wget -O var/image.png https://jeroen.github.io/images/testocr.png"
   ]
  },
  {
   "cell_type": "code",
   "execution_count": 4,
   "metadata": {
    "id": "J7Mj1RHUMlb3"
   },
   "outputs": [],
   "source": [
    "import pytesseract\n",
    "from PIL import Image"
   ]
  },
  {
   "cell_type": "code",
   "execution_count": 5,
   "metadata": {
    "id": "2kpGmX4oM8iU"
   },
   "outputs": [],
   "source": [
    "text = pytesseract.image_to_string(Image.open('var/image.png'))"
   ]
  },
  {
   "cell_type": "code",
   "execution_count": 6,
   "metadata": {
    "colab": {
     "base_uri": "https://localhost:8080/",
     "height": 69
    },
    "id": "LyhYHYtdNa-z",
    "outputId": "4cb5294d-c564-4b61-bf3e-c24b323d7068"
   },
   "outputs": [
    {
     "data": {
      "text/plain": [
       "'This is a lot of 12 point text to test the\\nocr code and see if it works on all types\\nof file format.\\n\\nThe quick brown dog jumped over the\\nlazy fox. The quick brown dog jumped\\nover the lazy fox. The quick brown dog\\njumped over the lazy fox. The quick\\nbrown dog jumped over the lazy fox.\\n'"
      ]
     },
     "execution_count": 6,
     "metadata": {},
     "output_type": "execute_result"
    }
   ],
   "source": [
    "text"
   ]
  },
  {
   "cell_type": "markdown",
   "metadata": {},
   "source": [
    "# Working with PDF Files\n",
    "\n",
    "Często będziesz miał do czynienia z plikami PDF. Istnieje wiele bibliotek w Pythonie do pracy z plikami PDF, każda z nich ma swoje wady i zalety. Jedną z nich jest **PyPDF2**:\n",
    "\n",
    "    pip install PyPDF2\n",
    "    \n",
    "Należy pamiętać, że nie każdy plik PDF może być odczytany za pomocą tej biblioteki. Pliki PDF, które są zbyt rozmyte, mają specjalne kodowanie, są zaszyfrowane, a może po prostu zostały utworzone za pomocą konkretnego programu, który nie działa dobrze z PyPDF2, nie będą mogły być odczytane. Jeśli znajdziesz się w tej sytuacji, spróbuj użyć innej biblioteki. Pamiętaj, że one również mogą nie działać. Powodem tego jest wiele różnych parametrów dla PDF i jak niestandardowe mogą być ustawienia, tekst może być pokazany jako obraz zamiast kodowania utf-8. Istnieje wiele parametrów do rozważenia w tym aspekcie.\n",
    "\n",
    "Jeśli chodzi o PyPDF2, może on tylko odczytać tekst z dokumentu PDF, nie będzie w stanie pobrać obrazów lub innych plików multimedialnych z PDF."
   ]
  },
  {
   "cell_type": "code",
   "execution_count": 45,
   "metadata": {},
   "outputs": [
    {
     "name": "stdout",
     "output_type": "stream",
     "text": [
      "Collecting PyPDF2\n",
      "  Downloading pypdf2-3.0.1-py3-none-any.whl (232 kB)\n",
      "\u001b[2K     \u001b[90m━━━━━━━━━━━━━━━━━━━━━━━━━━━━━━━━━━━━━━━\u001b[0m \u001b[32m232.6/232.6 kB\u001b[0m \u001b[31m2.7 MB/s\u001b[0m eta \u001b[36m0:00:00\u001b[0ma \u001b[36m0:00:01\u001b[0m\n",
      "\u001b[?25hInstalling collected packages: PyPDF2\n",
      "Successfully installed PyPDF2-3.0.1\n",
      "\n",
      "\u001b[1m[\u001b[0m\u001b[34;49mnotice\u001b[0m\u001b[1;39;49m]\u001b[0m\u001b[39;49m A new release of pip available: \u001b[0m\u001b[31;49m22.3.1\u001b[0m\u001b[39;49m -> \u001b[0m\u001b[32;49m23.0\u001b[0m\n",
      "\u001b[1m[\u001b[0m\u001b[34;49mnotice\u001b[0m\u001b[1;39;49m]\u001b[0m\u001b[39;49m To update, run: \u001b[0m\u001b[32;49mpython3.11 -m pip install --upgrade pip\u001b[0m\n",
      "Note: you may need to restart the kernel to use updated packages.\n"
     ]
    }
   ],
   "source": [
    "pip install PyPDF2"
   ]
  },
  {
   "cell_type": "code",
   "execution_count": 46,
   "metadata": {},
   "outputs": [
    {
     "name": "stdout",
     "output_type": "stream",
     "text": [
      "--2023-02-10 23:16:30--  https://wolnelektury.pl/media/book/pdf/piekna-bestia.pdf\n",
      "Resolving wolnelektury.pl (wolnelektury.pl)... 51.83.143.148\n",
      "Connecting to wolnelektury.pl (wolnelektury.pl)|51.83.143.148|:443... connected.\n",
      "HTTP request sent, awaiting response... 200 OK\n",
      "Length: 664968 (649K) [application/pdf]\n",
      "Saving to: ‘piekna-bestia.pdf’\n",
      "\n",
      "piekna-bestia.pdf   100%[===================>] 649,38K  --.-KB/s    in 0,1s    \n",
      "\n",
      "2023-02-10 23:16:30 (5,46 MB/s) - ‘piekna-bestia.pdf’ saved [664968/664968]\n",
      "\n"
     ]
    }
   ],
   "source": [
    "!wget https://wolnelektury.pl/media/book/pdf/piekna-bestia.pdf"
   ]
  },
  {
   "cell_type": "code",
   "execution_count": 47,
   "metadata": {},
   "outputs": [],
   "source": [
    "f = open('piekna-bestia.pdf','rb')"
   ]
  },
  {
   "cell_type": "code",
   "execution_count": 48,
   "metadata": {},
   "outputs": [],
   "source": [
    "import PyPDF2\n"
   ]
  },
  {
   "cell_type": "code",
   "execution_count": 50,
   "metadata": {},
   "outputs": [],
   "source": [
    "pdf_reader = PyPDF2.PdfReader(f)"
   ]
  },
  {
   "cell_type": "code",
   "execution_count": 53,
   "metadata": {},
   "outputs": [
    {
     "data": {
      "text/plain": [
       "9"
      ]
     },
     "execution_count": 53,
     "metadata": {},
     "output_type": "execute_result"
    }
   ],
   "source": [
    "len(pdf_reader.pages)"
   ]
  },
  {
   "cell_type": "code",
   "execution_count": 55,
   "metadata": {},
   "outputs": [],
   "source": [
    "page_one = pdf_reader.pages[1]"
   ]
  },
  {
   "cell_type": "code",
   "execution_count": 57,
   "metadata": {},
   "outputs": [],
   "source": [
    "page_one_text = page_one.extract_text()"
   ]
  },
  {
   "cell_type": "code",
   "execution_count": 61,
   "metadata": {},
   "outputs": [],
   "source": [
    "output = open('new_file.pdf', 'wb+')\n",
    "pdf_writer = PyPDF2.PdfWriter()\n"
   ]
  },
  {
   "cell_type": "code",
   "execution_count": 62,
   "metadata": {},
   "outputs": [
    {
     "data": {
      "text/plain": [
       "{'/Resources': {'/Font': {'/F1': {'/Type': '/Font',\n",
       "    '/Subtype': '/Type0',\n",
       "    '/BaseFont': '/EKOTGE+JunicodeWL-Regular',\n",
       "    '/Encoding': '/Identity-H',\n",
       "    '/DescendantFonts': [IndirectObject(7, 0, 4812221712)],\n",
       "    '/ToUnicode': {'/Filter': '/FlateDecode'}},\n",
       "   '/F2': {'/Type': '/Font',\n",
       "    '/Subtype': '/Type0',\n",
       "    '/BaseFont': '/YSZTWB+JunicodeWL-Italic',\n",
       "    '/Encoding': '/Identity-H',\n",
       "    '/DescendantFonts': [IndirectObject(14, 0, 4812221712)],\n",
       "    '/ToUnicode': {'/Filter': '/FlateDecode'}},\n",
       "   '/F3': {'/Type': '/Font',\n",
       "    '/Subtype': '/Type0',\n",
       "    '/BaseFont': '/IVOXXP+JunicodeWL-Italic',\n",
       "    '/Encoding': '/Identity-H',\n",
       "    '/DescendantFonts': [IndirectObject(21, 0, 4812221712)],\n",
       "    '/ToUnicode': {'/Filter': '/FlateDecode'}}},\n",
       "  '/XObject': {'/Im1': {'/Intent': '/Perceptual',\n",
       "    '/ColorSpace': ['/CalRGB',\n",
       "     {'/WhitePoint': [0.95046, 1, 1.08906],\n",
       "      '/Gamma': [2.2, 2.2, 2.2],\n",
       "      '/Matrix': [0.41239,\n",
       "       0.21264,\n",
       "       0.01933,\n",
       "       0.35758,\n",
       "       0.71517,\n",
       "       0.11919,\n",
       "       0.18048,\n",
       "       0.07219,\n",
       "       0.95053]}],\n",
       "    '/SMask': {'/Type': '/XObject',\n",
       "     '/Subtype': '/Image',\n",
       "     '/Width': 930,\n",
       "     '/Height': 395,\n",
       "     '/ColorSpace': '/DeviceGray',\n",
       "     '/BitsPerComponent': 8,\n",
       "     '/DecodeParms': {'/BitsPerComponent': 8,\n",
       "      '/Colors': 1,\n",
       "      '/Columns': 930,\n",
       "      '/Predictor': 2},\n",
       "     '/Filter': '/FlateDecode'},\n",
       "    '/Type': '/XObject',\n",
       "    '/Subtype': '/Image',\n",
       "    '/Width': 930,\n",
       "    '/Height': 395,\n",
       "    '/BitsPerComponent': 8,\n",
       "    '/DecodeParms': {'/BitsPerComponent': 8,\n",
       "     '/Colors': 3,\n",
       "     '/Columns': 930,\n",
       "     '/Predictor': 15},\n",
       "    '/Filter': '/FlateDecode'}},\n",
       "  '/ProcSet': ['/PDF', '/Text', '/ImageC', '/ImageB', '/ImageI']},\n",
       " '/Type': '/Page',\n",
       " '/MediaBox': [0, 0, 595.28, 841.89],\n",
       " '/Contents': [IndirectObject(29, 0, 4812221712)],\n",
       " '/Annots': [IndirectObject(31, 0, 4812221712),\n",
       "  IndirectObject(32, 0, 4812221712),\n",
       "  IndirectObject(33, 0, 4812221712),\n",
       "  IndirectObject(34, 0, 4812221712),\n",
       "  IndirectObject(35, 0, 4812221712),\n",
       "  IndirectObject(36, 0, 4812221712),\n",
       "  IndirectObject(37, 0, 4812221712),\n",
       "  IndirectObject(38, 0, 4812221712),\n",
       "  IndirectObject(39, 0, 4812221712),\n",
       "  IndirectObject(40, 0, 4812221712)],\n",
       " '/Parent': {'/Type': '/Pages',\n",
       "  '/Count': 1,\n",
       "  '/Kids': [IndirectObject(4, 0, 4812221712)]}}"
      ]
     },
     "execution_count": 62,
     "metadata": {},
     "output_type": "execute_result"
    }
   ],
   "source": [
    "pdf_writer.add_page(page_one)"
   ]
  },
  {
   "cell_type": "code",
   "execution_count": 63,
   "metadata": {},
   "outputs": [],
   "source": [
    "pdf_writer.write(output)\n",
    "output.close()"
   ]
  }
 ],
 "metadata": {
  "colab": {
   "collapsed_sections": [],
   "name": "01_Eksploracyjna_analiza_dokumentów_tekstowych.ipynb",
   "provenance": [],
   "toc_visible": true
  },
  "kernelspec": {
   "display_name": "Python 3.11.1 64-bit",
   "language": "python",
   "name": "python3"
  },
  "language_info": {
   "codemirror_mode": {
    "name": "ipython",
    "version": 3
   },
   "file_extension": ".py",
   "mimetype": "text/x-python",
   "name": "python",
   "nbconvert_exporter": "python",
   "pygments_lexer": "ipython3",
   "version": "3.11.1"
  },
  "vscode": {
   "interpreter": {
    "hash": "1a1af0ee75eeea9e2e1ee996c87e7a2b11a0bebd85af04bb136d915cefc0abce"
   }
  }
 },
 "nbformat": 4,
 "nbformat_minor": 1
}

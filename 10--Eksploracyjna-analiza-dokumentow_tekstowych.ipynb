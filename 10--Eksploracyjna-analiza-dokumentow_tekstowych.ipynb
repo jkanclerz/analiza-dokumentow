{
 "cells": [
  {
   "cell_type": "markdown",
   "metadata": {
    "id": "VhkQMwrapyVx"
   },
   "source": [
    "[![Open In Colab](https://colab.research.google.com/assets/colab-badge.svg)](https://githubtocolab.com/jkanclerz/analiza-dokumentow/blob/main/10--Eksploracyjna-analiza-dokumentow_tekstowych.ipynb)"
   ]
  },
  {
   "cell_type": "markdown",
   "metadata": {
    "id": "OuWu_NR1pzrN"
   },
   "source": [
    "# Analiza dokumentów tekstowych\t"
   ]
  },
  {
   "cell_type": "markdown",
   "metadata": {
    "id": "Vw4IkCcmp5oi"
   },
   "source": [
    "## Zastosowania\n",
    "### NLP - Natural Language Processing\n",
    "\n",
    "NLP zajmuje się zdolnością komputera do rozumienia, analizowania, manipulowania i potencjalnego generowania ludzkiego języka.\n",
    "\n",
    "* Wyszukiwanie informacji (Google finds relevant and similar results, \"Wyszukiwanie pełnotekstowe Elasticsearch\")\n",
    "* Ekstrakcja informacji (Adresy, naswy, złożone struktury tj. listy, tabele)\n",
    "* Analiza sentymentu\n",
    "* Generowanie streszczeń (https://smmry.com/)\n",
    "* Klasyfikacja\n",
    "* Predykcja, podpowiadanie następnego elementu w zdaniu\n",
    "* Auto korekta\n",
    "* Rozpoznawanie mowy\n",
    "* Generowanie Tekstu\n"
   ]
  },
  {
   "cell_type": "markdown",
   "metadata": {
    "id": "eD_RJfB_5ZC3"
   },
   "source": [
    "\n",
    "## Dane\n",
    "### Structured data\n",
    "* Dane ustrukturyzowane\n",
    "* Usystematyzowane zgodnie z zadanym schematem\n",
    "* Dobrze zorganizowane\n",
    "* Restrykcyjne reguły walidacji\n",
    "* Łatwa manipulacja, syszukiwanie, porównywanie modyfikacja\n",
    "\n",
    "### Semi structured data\n",
    "* Zorganizowane w grupy / kategorie \n",
    "* Elementy kolekcji mogą się wewnetrznie różnić\n",
    "* Posiadają wspólne cechy\n",
    "* Email (nadawca, odbiorca, lista załączników?, tekst?)\n",
    "\n",
    "### Unstructured data\n",
    "* Zawierają dane, tj liczby, fakty.\n",
    "* Trudne do usystematyzowania\n",
    "* Posty, korespondencja, dane cyfrowe, nagrania audio / video\n",
    "* Potrzeba ustrukturyzowania do dalszej analizy\n",
    "\n",
    "## Analiza tekstu\n",
    "\n",
    "### Dane tekstowe\n",
    "Przykłady danych nieustrukturyzowanych obejmują \n",
    "* dokumenty biznesowe i prawne\n",
    "  * forma papierowa\n",
    "  * elektoroniczne formaty wymiany danych\n",
    "* nagrania audio\n",
    "* czaty\n",
    "* wideo\n",
    "* obrazy\n",
    "* tekst na stronie internetowej\n",
    "* korespondencję \n",
    "* zgłoszenia w systemach CRM \n",
    "\n",
    "### Cel\n",
    "\n",
    "Wykorzystanie informacji ukrytych w danych\n",
    "* Ekstrakcja informacji z dokumentów\n",
    "  * Dane o klientach\n",
    "  * Dane o produktach\n",
    "  * Dane o cenach\n",
    "* Poznawanie opinni o produktach / markach\n",
    "  * Wykrywanie nastawienia konsumentów\n",
    "  * Przyśpieszenie reakcja na negatywne sygnały\n",
    "* Zwiększenie skuteczności w komunikacji z klientem\n",
    "  * Analiza ankiet, zgłoszeń, opinni, korespondencji\n",
    "* Rozpoznawanie intencji\n",
    "  * Chęć zakupu\n",
    "  * Reklamacja\n",
    "* Monitorowanie sentymentu dot. marki\n",
    "  * Brand24"
   ]
  },
  {
   "cell_type": "markdown",
   "metadata": {
    "id": "qTH7K8EWp6Cj"
   },
   "source": [
    "## Charakterystyka tekstów \n",
    "\n",
    "* składnia - relacje między słowami w zdaniu mogą być często określone na kilka sposobów, co prowadzi do różnych interpretacji tekstu,\n",
    "* semantyka - to samo słowo może mieć wiele znaczeń, w zależności od kontekstu,\n",
    "* występowanie metafor, tautologii, ironii itp.\n",
    "* znaki diakrytyczne, takie jak: ą, ć, ę, ł, ń, ó, ś, ź, ż,\n",
    "* homonimy - wyrazy o tej samej formie językowej, ale pochodzące od wyrazów o innym znaczeniu,\n",
    "* synonimy - różne wyrazy o tym samym lub bardzo podobnym znaczeniu,\n",
    "* idiomy - wyrażenia, których znaczenie jest inne niż to, które powinno być mu przypisane, biorąc pod uwagę jego części składowe i zasady składni,\n",
    "* ponad 150 tys. słów w słowniku podstawowym.\n",
    "\n",
    "\n",
    "## Narzędzia\n",
    "\n",
    "* Python\n",
    "* biblioteki data science\n",
    "  * scipy\n",
    "  * scikitlearn\n",
    "  * pandas\n",
    "  * tensorflow\n",
    "  * ...\n",
    "\n",
    "## Proces\n",
    "* Pozyskiwanie danych\n",
    "  * Czytanie plików\n",
    "  * Czytanie stron www (web scrapping)\n",
    "  * Odczytywanie tekstów z obrazka\n",
    "* Oczyszczanie danych\n",
    "  * literówki\n",
    "  * usuwanie nieznaczących słów\n",
    "  * interpunkcja\n",
    "  * podział na tokeny\n",
    "    * słowa\n",
    "    * zdania\n",
    "    * N-gramy\n",
    "* Transformacja danych\n",
    "  * Stemming\n",
    "  * Lemmatisation\n",
    "* Analiza zbioru danych\n",
    "  * bazowe statystyki\n",
    "    * długości słów\n",
    "    * częstość słów\n",
    "  * wizualizacje\n",
    "    * word cloud\n",
    "* Wektoryzacja\n",
    "  * one-hot encoding\n",
    "  * częstość (Count)\n",
    "  * częstość ważona (tf-idf)\n",
    "  * word2vec\n",
    "  * doc2vec\n",
    "* Modele\n",
    "  * Klasyfikacja / Klasteryzacja dokumentów\n",
    "  * Generowanie tekstu\n",
    "  * Podobieństwo dokumentów\n",
    "  * Podobieństwo słów\n"
   ]
  },
  {
   "cell_type": "code",
   "execution_count": null,
   "metadata": {
    "id": "5jlf2jS75ztu"
   },
   "outputs": [],
   "source": []
  },
  {
   "cell_type": "markdown",
   "metadata": {
    "id": "CxpzFBq26c7s"
   },
   "source": [
    "# Python\n",
    "\n",
    "- Intro to python (https://github.com/jkanclerz/intro-to-python)\n",
    "- Python code catas (https://www.codewars.com/)"
   ]
  },
  {
   "cell_type": "code",
   "execution_count": null,
   "metadata": {
    "colab": {
     "base_uri": "https://localhost:8080/"
    },
    "id": "hE0jABQB6jgc",
    "outputId": "db8e5a08-da71-4f74-f0e7-a60fc3246f34"
   },
   "outputs": [
    {
     "name": "stdout",
     "output_type": "stream",
     "text": [
      "Hello World\n"
     ]
    }
   ],
   "source": [
    "print(\"Hello World\")"
   ]
  },
  {
   "cell_type": "code",
   "execution_count": null,
   "metadata": {
    "colab": {
     "base_uri": "https://localhost:8080/"
    },
    "id": "WLXqxsKE6m1l",
    "outputId": "35d5817f-7423-4d02-8c94-56226937d54e"
   },
   "outputs": [
    {
     "name": "stdout",
     "output_type": "stream",
     "text": [
      "Hello John Snow\n"
     ]
    }
   ],
   "source": [
    "name = \"John Snow\"\n",
    "print(\"Hello {}\".format(name))"
   ]
  },
  {
   "cell_type": "code",
   "execution_count": null,
   "metadata": {
    "colab": {
     "base_uri": "https://localhost:8080/"
    },
    "id": "XFyREWso6oCa",
    "outputId": "9d261424-6682-4749-f6e4-2d150159d747"
   },
   "outputs": [
    {
     "data": {
      "text/plain": [
       "str"
      ]
     },
     "execution_count": 6,
     "metadata": {},
     "output_type": "execute_result"
    }
   ],
   "source": [
    "type(name)"
   ]
  },
  {
   "cell_type": "code",
   "execution_count": null,
   "metadata": {
    "colab": {
     "base_uri": "https://localhost:8080/"
    },
    "id": "j3Rg3TBj6042",
    "outputId": "5d0bacd0-a6d2-4400-ae1f-ae4ab22c5f5e"
   },
   "outputs": [
    {
     "data": {
      "text/plain": [
       "list"
      ]
     },
     "execution_count": 8,
     "metadata": {},
     "output_type": "execute_result"
    }
   ],
   "source": [
    "x = [\"john\", \"doe\"]\n",
    "type(x)"
   ]
  },
  {
   "cell_type": "code",
   "execution_count": null,
   "metadata": {
    "colab": {
     "base_uri": "https://localhost:8080/"
    },
    "id": "7bScNH9F654a",
    "outputId": "b7e389ac-9f15-4d30-c065-d5c01c7bb411"
   },
   "outputs": [
    {
     "data": {
      "text/plain": [
       "tuple"
      ]
     },
     "execution_count": 10,
     "metadata": {},
     "output_type": "execute_result"
    }
   ],
   "source": [
    "x = (\"john\", \"doe\")\n",
    "type(x)"
   ]
  },
  {
   "cell_type": "code",
   "execution_count": null,
   "metadata": {
    "colab": {
     "base_uri": "https://localhost:8080/"
    },
    "id": "W2ax1t5I7l-6",
    "outputId": "1c442bbb-306a-4c83-c17d-23efe1790692"
   },
   "outputs": [
    {
     "data": {
      "text/plain": [
       "itertools.chain"
      ]
     },
     "execution_count": 15,
     "metadata": {},
     "output_type": "execute_result"
    }
   ],
   "source": [
    "import itertools\n",
    "\n",
    "x = itertools.chain(['A', 'B', 'C'], ['X', 'Y', 'Z'])\n",
    "type(x)"
   ]
  },
  {
   "cell_type": "code",
   "execution_count": null,
   "metadata": {
    "colab": {
     "base_uri": "https://localhost:8080/"
    },
    "id": "QhstLZT-7-QA",
    "outputId": "14e1f98a-a12c-4493-f795-d30a4a573251"
   },
   "outputs": [
    {
     "name": "stdout",
     "output_type": "stream",
     "text": [
      "['A', 'B', 'C', 'X', 'Y', 'Z']\n"
     ]
    }
   ],
   "source": [
    "x_as_list = list(x)\n",
    "type(x_as_list)\n",
    "print(x_as_list)"
   ]
  },
  {
   "cell_type": "code",
   "execution_count": null,
   "metadata": {
    "colab": {
     "base_uri": "https://localhost:8080/"
    },
    "id": "Nj10RR9p8CH8",
    "outputId": "5fbd44c4-6bee-455a-eb43-40e71d69d631"
   },
   "outputs": [
    {
     "name": "stdout",
     "output_type": "stream",
     "text": [
      "[1, 2, 3, 4, 5, 6, 7, 8, 9]\n"
     ]
    }
   ],
   "source": [
    "x = [item for item in range(1, 10)]\n",
    "type(x)\n",
    "print(x)"
   ]
  },
  {
   "cell_type": "code",
   "execution_count": null,
   "metadata": {
    "colab": {
     "base_uri": "https://localhost:8080/"
    },
    "id": "pKAT_pfJ8UpA",
    "outputId": "79cb601c-f184-4a69-b03f-a96c7b962d2f"
   },
   "outputs": [
    {
     "name": "stdout",
     "output_type": "stream",
     "text": [
      "<generator object <genexpr> at 0x7fedcb88eed0>\n"
     ]
    }
   ],
   "source": [
    "x = (item for item in range(1, 10))\n",
    "type(x)\n",
    "print(x)"
   ]
  },
  {
   "cell_type": "code",
   "execution_count": null,
   "metadata": {
    "colab": {
     "base_uri": "https://localhost:8080/"
    },
    "id": "aodYrCId8aaI",
    "outputId": "b8abdd34-7bb3-44ad-d3cc-ce074abe595a"
   },
   "outputs": [
    {
     "name": "stdout",
     "output_type": "stream",
     "text": [
      "[1, 2, 3, 4, 5, 6, 7, 8, 9]\n"
     ]
    }
   ],
   "source": [
    "x = (item for item in range(1, 10))\n",
    "type(x)\n",
    "print(list(x))"
   ]
  },
  {
   "cell_type": "markdown",
   "metadata": {
    "id": "8-QFXW6W6C5B"
   },
   "source": [
    "# Writing / Reading / Loading\n",
    "\n",
    "https://github.com/git-podrecznik/wiersze\n",
    "\n",
    "https://raw.githubusercontent.com/git-podrecznik/wiersze/master/Julian%20Tuwim%20-%20Lokomotywa.txt"
   ]
  },
  {
   "cell_type": "markdown",
   "metadata": {
    "id": "GGI8fIki-AKD"
   },
   "source": [
    "## writing / reading file"
   ]
  },
  {
   "cell_type": "code",
   "execution_count": null,
   "metadata": {
    "id": "tYntjNza6FQo"
   },
   "outputs": [],
   "source": [
    "text = '''\n",
    "Stoi na stacji lokomotywa,\n",
    "Ciężka, ogromna i pot z niej spływa:\n",
    "Tłusta oliwa.\n",
    "Stoi i sapie, dyszy i dmucha,\n",
    "Żar z rozgrzanego jej brzucha bucha:\n",
    "Buch - jak gorąco!\n",
    "Uch - jak gorąco!\n",
    "Puff - jak gorąco!\n",
    "Uff - jak gorąco!\n",
    "Już ledwo sapie, już ledwo zipie,\n",
    "A jeszcze palacz węgiel w nią sypie.\n",
    "\n",
    "Wagony do niej podoczepiali\n",
    "Wielkie i ciężkie, z żelaza, stali,\n",
    "I pełno ludzi w każdym wagonie,\n",
    "A w jednym krowy, a w drugim konie,\n",
    "A w trzecim siedzą same grubasy,\n",
    "Siedzą i jedzą tłuste kiełbasy,\n",
    "A czwarty wagon pełen bananów,\n",
    "A w piątym stoi sześć fortepianów,\n",
    "W szóstym armata - o! jaka wielka!\n",
    "Pod każdym kołem żelazna belka!\n",
    "W siódmym dębowe stoły i szafy,\n",
    "W ósmym słoń, niedźwiedź i dwie żyrafy,\n",
    "W dziewiątym - same tuczone świnie,\n",
    "W dziesiątym - kufry, paki i skrzynie.\n",
    "A tych wagonów jest ze czterdzieści,\n",
    "Sam nie wiem, co się w nich jeszcze mieści.\n",
    "Lecz choćby przyszło tysiąc atletów\n",
    "I każdy zjadłby tysiąc kotletów,\n",
    "I każdy nie wiem jak się wytężał,\n",
    "To nie udźwigną, taki to ciężar.\n",
    "\n",
    "Nagle - gwizd!\n",
    "Nagle - świst!\n",
    "Para - buch!\n",
    "Koła - w ruch!\n",
    "\n",
    "Najpierw - powoli - jak żółw – ociężale,\n",
    "Ruszyła - maszyna - po szynach - ospale,\n",
    "Szarpnęła wagony i ciągnie z mozołem,\n",
    "I kręci się, kręci się koło za kołem,\n",
    "I biegu przyspiesza, i gna coraz prędzej,\n",
    "I dudni, i stuka, łomoce i pędzi,\n",
    "A dokąd? A dokąd? A dokąd? Na wprost!\n",
    "Po torze, po torze, po torze, przez most,\n",
    "Przez góry, przez tunel, przez pola, przez las,\n",
    "I spieszy się, spieszy, by zdążyć na czas,\n",
    "Do taktu turkoce i puka, i stuka to:\n",
    "Tak to to, tak to to , tak to to, tak to to.\n",
    "Gładko tak, lekko tak toczy się w dal,\n",
    "Jak gdyby to była piłeczka, nie stal,\n",
    "Nie ciężka maszyna, zziajana, zdyszana,\n",
    "Lecz fraszka, igraszka, zabawka blaszana.\n",
    "\n",
    "A skądże to, jakże to, czemu tak gna?\n",
    "A co to to, co to to, kto to tak pcha,\n",
    "Że pędzi, że wali, że bucha buch, buch?\n",
    "To para gorąca wprawiła to w ruch,\n",
    "To para, co z kotła rurami do tłoków,\n",
    "A tłoki kołami ruszają z dwóch boków\n",
    "I gnają, i pchają, i pociąg się toczy,\n",
    "Bo para te tłoki wciąż tłoczy i tłoczy,\n",
    "I koła turkocą, i puka, i stuka to:\n",
    "Tak to to, tak to to, tak to to, tak to to!\n",
    "'''"
   ]
  },
  {
   "cell_type": "code",
   "execution_count": null,
   "metadata": {
    "id": "31NOWz-_9Zrx"
   },
   "outputs": [],
   "source": [
    "!mkdir -p var"
   ]
  },
  {
   "cell_type": "code",
   "execution_count": null,
   "metadata": {
    "id": "sCXQJ8j-9TjM"
   },
   "outputs": [],
   "source": [
    "with open('var/lokomotywa.txt', 'w+') as f:\n",
    "  f.write(text)"
   ]
  },
  {
   "cell_type": "code",
   "execution_count": null,
   "metadata": {
    "colab": {
     "base_uri": "https://localhost:8080/"
    },
    "id": "VHZmM7cV9mI-",
    "outputId": "8090031b-5d1b-42f0-84a0-868dad6a36ce"
   },
   "outputs": [
    {
     "name": "stdout",
     "output_type": "stream",
     "text": [
      "\n",
      "Stoi na stacji lokomotywa,\n",
      "Ciężka, ogromna i pot z niej spływa:\n",
      "Tłusta oliwa.\n",
      "Stoi i sapie, dyszy i dmucha,\n",
      "Żar z rozgrzanego jej brzucha bucha:\n",
      "Buch - jak gorąco!\n",
      "Uch - jak gorąco!\n",
      "Puff - jak gorąco!\n",
      "Uff - jak gorąco!\n",
      "Już ledwo sapie, już ledwo zipie,\n",
      "A jeszcze palacz węgiel w nią sypie.\n",
      "\n",
      "Wagony do niej podoczepiali\n",
      "Wielkie i ciężkie, z żelaza, stali,\n",
      "I pełno ludzi w każdym wagonie,\n",
      "A w jednym krowy, a w drugim konie,\n",
      "A w trzecim siedzą same grubasy,\n",
      "Siedzą i jedzą tłuste kiełbasy,\n",
      "A czwarty wagon pełen bananów,\n",
      "A w piątym stoi sześć fortepianów,\n",
      "W szóstym armata - o! jaka wielka!\n",
      "Pod każdym kołem żelazna belka!\n",
      "W siódmym dębowe stoły i szafy,\n",
      "W ósmym słoń, niedźwiedź i dwie żyrafy,\n",
      "W dziewiątym - same tuczone świnie,\n",
      "W dziesiątym - kufry, paki i skrzynie.\n",
      "A tych wagonów jest ze czterdzieści,\n",
      "Sam nie wiem, co się w nich jeszcze mieści.\n",
      "Lecz choćby przyszło tysiąc atletów\n",
      "I każdy zjadłby tysiąc kotletów,\n",
      "I każdy nie wiem jak się wytężał,\n",
      "To nie udźwigną, taki to ciężar.\n",
      "\n",
      "Nagle - gwizd!\n",
      "Nagle - świst!\n",
      "Para - buch!\n",
      "Koła - w ruch!\n",
      "\n",
      "Najpierw - powoli - jak żółw – ociężale,\n",
      "Ruszyła - maszyna - po szynach - ospale,\n",
      "Szarpnęła wagony i ciągnie z mozołem,\n",
      "I kręci się, kręci się koło za kołem,\n",
      "I biegu przyspiesza, i gna coraz prędzej,\n",
      "I dudni, i stuka, łomoce i pędzi,\n",
      "A dokąd? A dokąd? A dokąd? Na wprost!\n",
      "Po torze, po torze, po torze, przez most,\n",
      "Przez góry, przez tunel, przez pola, przez las,\n",
      "I spieszy się, spieszy, by zdążyć na czas,\n",
      "Do taktu turkoce i puka, i stuka to:\n",
      "Tak to to, tak to to , tak to to, tak to to.\n",
      "Gładko tak, lekko tak toczy się w dal,\n",
      "Jak gdyby to była piłeczka, nie stal,\n",
      "Nie ciężka maszyna, zziajana, zdyszana,\n",
      "Lecz fraszka, igraszka, zabawka blaszana.\n",
      "\n",
      "A skądże to, jakże to, czemu tak gna?\n",
      "A co to to, co to to, kto to tak pcha,\n",
      "Że pędzi, że wali, że bucha buch, buch?\n",
      "To para gorąca wprawiła to w ruch,\n",
      "To para, co z kotła rurami do tłoków,\n",
      "A tłoki kołami ruszają z dwóch boków\n",
      "I gnają, i pchają, i pociąg się toczy,\n",
      "Bo para te tłoki wciąż tłoczy i tłoczy,\n",
      "I koła turkocą, i puka, i stuka to:\n",
      "Tak to to, tak to to, tak to to, tak to to!\n"
     ]
    }
   ],
   "source": [
    "!cat var/lokomotywa.txt"
   ]
  },
  {
   "cell_type": "code",
   "execution_count": null,
   "metadata": {
    "colab": {
     "base_uri": "https://localhost:8080/"
    },
    "id": "dB3w-blp9qbi",
    "outputId": "7578c9a9-31bd-4750-c9b1-84031d5e0009"
   },
   "outputs": [
    {
     "name": "stdout",
     "output_type": "stream",
     "text": [
      "<class 'str'>\n"
     ]
    }
   ],
   "source": [
    "with open(\"var/lokomotywa.txt\") as f:\n",
    "  x = f.read()\n",
    "  print(type(x))"
   ]
  },
  {
   "cell_type": "code",
   "execution_count": null,
   "metadata": {
    "colab": {
     "base_uri": "https://localhost:8080/"
    },
    "id": "FljrUVGg-VKE",
    "outputId": "57a26334-db25-4972-b6d7-f91f60baceaa"
   },
   "outputs": [
    {
     "name": "stdout",
     "output_type": "stream",
     "text": [
      "<class 'list'>\n"
     ]
    }
   ],
   "source": [
    "with open(\"var/lokomotywa.txt\") as f:\n",
    "  x = f.readlines()\n",
    "  print(type(x))"
   ]
  },
  {
   "cell_type": "code",
   "execution_count": null,
   "metadata": {
    "colab": {
     "base_uri": "https://localhost:8080/"
    },
    "id": "zDH4S4XB-fIp",
    "outputId": "c56cecf6-0fdb-434c-9c2a-729e3662b22f"
   },
   "outputs": [
    {
     "data": {
      "text/plain": [
       "generator"
      ]
     },
     "execution_count": 55,
     "metadata": {},
     "output_type": "execute_result"
    }
   ],
   "source": [
    "lines = (line for line in open(\"var/lokomotywa.txt\"))\n",
    "type(lines)"
   ]
  },
  {
   "cell_type": "code",
   "execution_count": null,
   "metadata": {
    "colab": {
     "base_uri": "https://localhost:8080/"
    },
    "id": "NU9uT5T4-3LU",
    "outputId": "bee35a2c-3d89-4d04-aa01-fc75e91ee7e7"
   },
   "outputs": [
    {
     "data": {
      "text/plain": [
       "('Tłusta oliwa.\\n',\n",
       " 'Stoi i sapie, dyszy i dmucha,\\n',\n",
       " 'Żar z rozgrzanego jej brzucha bucha:\\n',\n",
       " 'Buch - jak gorąco!\\n')"
      ]
     },
     "execution_count": 57,
     "metadata": {},
     "output_type": "execute_result"
    }
   ],
   "source": [
    "next(lines),next(lines),next(lines),next(lines)"
   ]
  },
  {
   "cell_type": "markdown",
   "metadata": {},
   "source": [
    "## Writing to a File\n",
    "\n",
    "https://docs.python.org/3/library/functions.html#open"
   ]
  },
  {
   "cell_type": "code",
   "execution_count": null,
   "metadata": {},
   "outputs": [],
   "source": [
    "my_file = open('test.txt','w+')"
   ]
  },
  {
   "cell_type": "code",
   "execution_count": null,
   "metadata": {},
   "outputs": [],
   "source": [
    "my_file.write('This is a new first line')"
   ]
  },
  {
   "cell_type": "code",
   "execution_count": null,
   "metadata": {},
   "outputs": [],
   "source": [
    "# Read the file\n",
    "my_file.seek(0)\n",
    "my_file.read()"
   ]
  },
  {
   "cell_type": "code",
   "execution_count": null,
   "metadata": {},
   "outputs": [],
   "source": [
    "my_file.close()  "
   ]
  },
  {
   "cell_type": "markdown",
   "metadata": {},
   "source": [
    "## Appending to a File\n",
    "Passing the argument `'a'` opens the file and puts the pointer at the end, so anything written is appended. Like `'w+'`, `'a+'` lets us read and write to a file. If the file does not exist, one will be created."
   ]
  },
  {
   "cell_type": "code",
   "execution_count": null,
   "metadata": {},
   "outputs": [],
   "source": [
    "my_file = open('test.txt','a+')\n",
    "my_file.write('\\nThis line is being appended to test.txt')\n",
    "my_file.write('\\nAnd another line here.')"
   ]
  },
  {
   "cell_type": "code",
   "execution_count": null,
   "metadata": {},
   "outputs": [],
   "source": [
    "my_file.seek(0)\n",
    "print(my_file.read())"
   ]
  },
  {
   "cell_type": "code",
   "execution_count": null,
   "metadata": {},
   "outputs": [],
   "source": [
    "my_file.close()"
   ]
  },
  {
   "cell_type": "code",
   "execution_count": null,
   "metadata": {},
   "outputs": [],
   "source": [
    "with open('test.txt','r') as txt:\n",
    "    for line in txt:\n",
    "        print(line)"
   ]
  }
 ],
 "metadata": {
  "colab": {
   "collapsed_sections": [],
   "name": "01_Eksploracyjna_analiza_dokumentów_tekstowych.ipynb",
   "provenance": [],
   "toc_visible": true
  },
  "kernelspec": {
   "display_name": "Python 3.11.1 64-bit",
   "language": "python",
   "name": "python3"
  },
  "language_info": {
   "codemirror_mode": {
    "name": "ipython",
    "version": 3
   },
   "file_extension": ".py",
   "mimetype": "text/x-python",
   "name": "python",
   "nbconvert_exporter": "python",
   "pygments_lexer": "ipython3",
   "version": "3.11.1"
  },
  "vscode": {
   "interpreter": {
    "hash": "1a1af0ee75eeea9e2e1ee996c87e7a2b11a0bebd85af04bb136d915cefc0abce"
   }
  }
 },
 "nbformat": 4,
 "nbformat_minor": 1
}

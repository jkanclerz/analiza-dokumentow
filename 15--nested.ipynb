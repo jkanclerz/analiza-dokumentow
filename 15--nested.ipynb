{
 "cells": [
  {
   "cell_type": "markdown",
   "metadata": {},
   "source": [
    "[![Open In Colab](https://colab.research.google.com/assets/colab-badge.svg)](https://githubtocolab.com/jkanclerz/analiza-dokumentow/blob/main/15--nested.ipynb)"
   ]
  },
  {
   "cell_type": "markdown",
   "metadata": {
    "id": "aLmvT-HtNkP8"
   },
   "source": [
    "## All files at once"
   ]
  },
  {
   "cell_type": "code",
   "execution_count": 7,
   "metadata": {
    "id": "01KbkjvSNByg"
   },
   "outputs": [],
   "source": [
    "!mkdir -p var/nested/a/b/c/d/e/f"
   ]
  },
  {
   "cell_type": "code",
   "execution_count": 8,
   "metadata": {
    "id": "T2mfmNUVNuBv"
   },
   "outputs": [],
   "source": [
    "!echo \"level 1\" > var/nested/a/level.txt\n",
    "!echo \"level 2\" > var/nested/a/b/level.txt\n",
    "!echo \"level 3\" > var/nested/a/b/c/level.txt\n",
    "!echo \"level 4\" > var/nested/a/b/c/d/level.txt\n",
    "!echo \"level 5\" > var/nested/a/b/c/d/e/level.txt\n",
    "!echo \"level 6\" > var/nested/a/b/c/d/e/f/level.txt\n",
    "!echo \"example doc x\" > var/nested/a/b/c/d/e/f/level.docx"
   ]
  },
  {
   "cell_type": "code",
   "execution_count": 12,
   "metadata": {
    "id": "BWOSZwUSOGha"
   },
   "outputs": [],
   "source": [
    "import glob\n",
    "import itertools"
   ]
  },
  {
   "cell_type": "code",
   "execution_count": 13,
   "metadata": {
    "id": "V-LUho1nN2mT"
   },
   "outputs": [],
   "source": [
    "paths = glob.glob('./var/nested/**/*.txt', recursive=True)"
   ]
  },
  {
   "cell_type": "code",
   "execution_count": 14,
   "metadata": {
    "id": "t4GNTFe-OTzG"
   },
   "outputs": [],
   "source": [
    "contents = [open(path) for path in paths]\n",
    "contents = map(lambda f: f.readlines(), contents)\n",
    "content = itertools.chain.from_iterable(contents)\n",
    "content = list(content)"
   ]
  },
  {
   "cell_type": "code",
   "execution_count": 15,
   "metadata": {
    "id": "ohtgVZ3oPEeC"
   },
   "outputs": [],
   "source": [
    "from pprint import pprint as pp"
   ]
  },
  {
   "cell_type": "code",
   "execution_count": 16,
   "metadata": {
    "colab": {
     "base_uri": "https://localhost:8080/",
     "height": 35
    },
    "id": "CazNGdCMOWbr",
    "outputId": "1a1e702c-6e6f-45a6-847e-4624439392ce"
   },
   "outputs": [
    {
     "data": {
      "text/plain": [
       "'level 1\\nlevel 2\\nlevel 3\\nlevel 4\\nlevel 5\\nlevel 6\\n'"
      ]
     },
     "metadata": {},
     "output_type": "display_data"
    }
   ],
   "source": [
    "display(\"\".join(content))"
   ]
  },
  {
   "cell_type": "markdown",
   "metadata": {
    "id": "NY_FpqCHf7hy"
   },
   "source": [
    "## Pobieranie danych"
   ]
  },
  {
   "cell_type": "code",
   "execution_count": 26,
   "metadata": {},
   "outputs": [
    {
     "name": "stdout",
     "output_type": "stream",
     "text": [
      "Requirement already satisfied: pandas in /usr/local/lib/python3.11/site-packages (1.5.3)\n",
      "Requirement already satisfied: requests in /usr/local/lib/python3.11/site-packages (2.28.2)\n",
      "Requirement already satisfied: python-dateutil>=2.8.1 in /Users/jkanclerz/Library/Python/3.11/lib/python/site-packages (from pandas) (2.8.2)\n",
      "Requirement already satisfied: pytz>=2020.1 in /usr/local/lib/python3.11/site-packages (from pandas) (2022.7.1)\n",
      "Requirement already satisfied: numpy>=1.21.0 in /usr/local/lib/python3.11/site-packages (from pandas) (1.24.2)\n",
      "Requirement already satisfied: charset-normalizer<4,>=2 in /usr/local/lib/python3.11/site-packages (from requests) (3.0.1)\n",
      "Requirement already satisfied: idna<4,>=2.5 in /usr/local/lib/python3.11/site-packages (from requests) (3.4)\n",
      "Requirement already satisfied: urllib3<1.27,>=1.21.1 in /usr/local/lib/python3.11/site-packages (from requests) (1.26.14)\n",
      "Requirement already satisfied: certifi>=2017.4.17 in /usr/local/lib/python3.11/site-packages (from requests) (2022.12.7)\n",
      "Requirement already satisfied: six>=1.5 in /usr/local/lib/python3.11/site-packages (from python-dateutil>=2.8.1->pandas) (1.16.0)\n",
      "\n",
      "\u001b[1m[\u001b[0m\u001b[34;49mnotice\u001b[0m\u001b[1;39;49m]\u001b[0m\u001b[39;49m A new release of pip available: \u001b[0m\u001b[31;49m22.3.1\u001b[0m\u001b[39;49m -> \u001b[0m\u001b[32;49m23.0\u001b[0m\n",
      "\u001b[1m[\u001b[0m\u001b[34;49mnotice\u001b[0m\u001b[1;39;49m]\u001b[0m\u001b[39;49m To update, run: \u001b[0m\u001b[32;49mpython3.11 -m pip install --upgrade pip\u001b[0m\n",
      "Note: you may need to restart the kernel to use updated packages.\n"
     ]
    }
   ],
   "source": [
    "pip install pandas requests"
   ]
  },
  {
   "cell_type": "code",
   "execution_count": 5,
   "metadata": {},
   "outputs": [],
   "source": [
    "import itertools"
   ]
  },
  {
   "cell_type": "code",
   "execution_count": 1,
   "metadata": {
    "id": "YEwfRtfTbtLw"
   },
   "outputs": [],
   "source": [
    "books = {\n",
    "  \"Zeromski\": [\n",
    "    \"https://wolnelektury.pl/media/book/txt/zeromski-oko-za-oko.txt\",\n",
    "    \"https://wolnelektury.pl/media/book/txt/wszystko-i-nic.txt\",\n",
    "    \"https://wolnelektury.pl/media/book/txt/zeromski-rozdziobia-nas-kruki-wrony.txt\",\n",
    "    \"https://wolnelektury.pl/media/book/txt/silaczka.txt\",\n",
    "    \"https://wolnelektury.pl/media/book/txt/syzyfowe-prace.txt\",\n",
    "  ],\n",
    " \"Mickiewicz\": [\n",
    "    \"https://wolnelektury.pl/media/book/txt/pan-tadeusz.txt\",\n",
    "    \"https://wolnelektury.pl/media/book/txt/dziady-dziady-widowisko-czesc-i.txt\",\n",
    "    \"https://wolnelektury.pl/media/book/txt/dziady-dziadow-czesci-iii-ustep-do-przyjaciol-moskali.txt\",\n",
    "    \"https://wolnelektury.pl/media/book/txt/ballady-i-romanse-pani-twardowska.txt\",\n",
    "    \"https://wolnelektury.pl/media/book/txt/ballady-i-romanse-powrot-taty.txt\",\n",
    "    \"https://wolnelektury.pl/media/book/txt/ballady-i-romanse-switez.txt\",\n",
    "    \"https://wolnelektury.pl/media/book/txt/dziady-dziady-poema-dziady-czesc-iv.txt\",\n",
    " ],\n",
    " \"Sienkiewicz\": [\n",
    "  \"https://wolnelektury.pl/media/book/txt/quo-vadis.txt\",\n",
    "  \"https://wolnelektury.pl/media/book/txt/sienkiewicz-we-mgle.txt\",\n",
    "  \"https://wolnelektury.pl/media/book/txt/potop-tom-pierwszy.txt\",\n",
    "  \"https://wolnelektury.pl/media/book/txt/potop-tom-drugi.txt\",\n",
    "  \"https://wolnelektury.pl/media/book/txt/potop-tom-trzeci.txt\",\n",
    " ],\n",
    " \"Orzeszkowa\": [\n",
    "    \"https://wolnelektury.pl/media/book/txt/orzeszkowa-kto-winien.txt\",\n",
    "    \"https://wolnelektury.pl/media/book/txt/nad-niemnem-tom-pierwszy.txt\",\n",
    "    \"https://wolnelektury.pl/media/book/txt/nad-niemnem-tom-drugi.txt\",\n",
    "    \"https://wolnelektury.pl/media/book/txt/nad-niemnem-tom-trzeci.txt\",\n",
    "    \"https://wolnelektury.pl/media/book/txt/gloria-victis-dziwna-historia.txt\",\n",
    "    \"https://wolnelektury.pl/media/book/txt/z-pozogi.txt\",\n",
    "    \"https://wolnelektury.pl/media/book/txt/pani-dudkowa.txt\",\n",
    "    \"https://wolnelektury.pl/media/book/txt/dymy.txt\",\n",
    "    \"https://wolnelektury.pl/media/book/txt/syn-stolarza.txt\",\n",
    "    \"https://wolnelektury.pl/media/book/txt/dobra-pani.txt\",\n",
    "    \"https://wolnelektury.pl/media/book/txt/cnotliwi.txt\",\n",
    "    \"https://wolnelektury.pl/media/book/txt/kilka-slow-o-kobietach.txt\",\n",
    "    \"https://wolnelektury.pl/media/book/txt/patryotyzm-i-kosmopolityzm.txt\",\n",
    "    \"https://wolnelektury.pl/media/book/txt/julianka.txt\",\n",
    " ],\n",
    " \"Prus\": [\n",
    "  \"https://wolnelektury.pl/media/book/txt/lalka-tom-drugi.txt\",\n",
    "  \"https://wolnelektury.pl/media/book/txt/lalka-tom-pierwszy.txt\",\n",
    "  \"https://wolnelektury.pl/media/book/txt/antek.txt\",\n",
    "  \"https://wolnelektury.pl/media/book/txt/katarynka.txt\",\n",
    "  \"https://wolnelektury.pl/media/book/txt/prus-anielka.txt\",\n",
    "  \"https://wolnelektury.pl/media/book/txt/prus-placowka.txt\",\n",
    " \n",
    " ],\n",
    " \"Reymont\": [\n",
    "    \"https://wolnelektury.pl/media/book/txt/ziemia-obiecana-tom-pierwszy.txt\",\n",
    "    \"https://wolnelektury.pl/media/book/txt/chlopi-czesc-pierwsza-jesien.txt\",\n",
    "    \"https://wolnelektury.pl/media/book/txt/reymont-chlopi-zima.txt\",\n",
    "    \"https://wolnelektury.pl/media/book/txt/chlopi-czesc-trzecia-wiosna.txt\",\n",
    "    \"https://wolnelektury.pl/media/book/txt/chlopi-czesc-czwarta-lato.txt\",\n",
    " ]\n",
    "}"
   ]
  },
  {
   "cell_type": "code",
   "execution_count": 2,
   "metadata": {},
   "outputs": [],
   "source": [
    "import requests"
   ]
  },
  {
   "cell_type": "code",
   "execution_count": 3,
   "metadata": {
    "id": "jrSM7Q0wc58W"
   },
   "outputs": [],
   "source": [
    "items_batches = ([(author, url) for url in urls] for author, urls in books.items())"
   ]
  },
  {
   "cell_type": "code",
   "execution_count": 6,
   "metadata": {
    "id": "gx5I0ZNpeX2G"
   },
   "outputs": [],
   "source": [
    "items = itertools.chain.from_iterable(items_batches)"
   ]
  },
  {
   "cell_type": "code",
   "execution_count": 20,
   "metadata": {
    "colab": {
     "base_uri": "https://localhost:8080/"
    },
    "id": "iN4a27GUegBw",
    "outputId": "5ffd1318-0eea-4e1b-d52b-0cb41b4ecc0d"
   },
   "outputs": [
    {
     "data": {
      "text/plain": [
       "('Zeromski', 'https://wolnelektury.pl/media/book/txt/zeromski-oko-za-oko.txt')"
      ]
     },
     "execution_count": 20,
     "metadata": {},
     "output_type": "execute_result"
    }
   ],
   "source": [
    "next(items)"
   ]
  },
  {
   "cell_type": "code",
   "execution_count": 7,
   "metadata": {
    "id": "omgIgKPXgU5g"
   },
   "outputs": [],
   "source": [
    "responses = ((author, url.replace(\"https://wolnelektury.pl/media/book/txt/\", \"\"), requests.get(url)) for author, url in items)"
   ]
  },
  {
   "cell_type": "code",
   "execution_count": 8,
   "metadata": {
    "id": "V45vRTJwfCI4"
   },
   "outputs": [],
   "source": [
    "texts = ((author, filename, r.text if r.status_code == 200 else None) for author, filename, r in responses)"
   ]
  },
  {
   "cell_type": "code",
   "execution_count": 9,
   "metadata": {
    "id": "fWie9AVKfNAN"
   },
   "outputs": [],
   "source": [
    "valid = ((author, filename, content) for author, filename, content in texts if content is not None)"
   ]
  },
  {
   "cell_type": "code",
   "execution_count": 10,
   "metadata": {},
   "outputs": [
    {
     "name": "stdout",
     "output_type": "stream",
     "text": [
      "Requirement already satisfied: pandas in /usr/local/lib/python3.11/site-packages (1.5.3)\n",
      "Requirement already satisfied: python-dateutil>=2.8.1 in /Users/jkanclerz/Library/Python/3.11/lib/python/site-packages (from pandas) (2.8.2)\n",
      "Requirement already satisfied: pytz>=2020.1 in /usr/local/lib/python3.11/site-packages (from pandas) (2022.7.1)\n",
      "Requirement already satisfied: numpy>=1.21.0 in /usr/local/lib/python3.11/site-packages (from pandas) (1.24.2)\n",
      "Requirement already satisfied: six>=1.5 in /usr/local/lib/python3.11/site-packages (from python-dateutil>=2.8.1->pandas) (1.16.0)\n",
      "\n",
      "\u001b[1m[\u001b[0m\u001b[34;49mnotice\u001b[0m\u001b[1;39;49m]\u001b[0m\u001b[39;49m A new release of pip available: \u001b[0m\u001b[31;49m22.3.1\u001b[0m\u001b[39;49m -> \u001b[0m\u001b[32;49m23.0\u001b[0m\n",
      "\u001b[1m[\u001b[0m\u001b[34;49mnotice\u001b[0m\u001b[1;39;49m]\u001b[0m\u001b[39;49m To update, run: \u001b[0m\u001b[32;49mpython3.11 -m pip install --upgrade pip\u001b[0m\n",
      "Note: you may need to restart the kernel to use updated packages.\n"
     ]
    }
   ],
   "source": [
    "pip install pandas"
   ]
  },
  {
   "cell_type": "code",
   "execution_count": 11,
   "metadata": {},
   "outputs": [],
   "source": [
    "import pandas as pd"
   ]
  },
  {
   "cell_type": "code",
   "execution_count": 12,
   "metadata": {
    "id": "hMKSXNqVfXES"
   },
   "outputs": [],
   "source": [
    "BOOKS = pd.DataFrame(valid, columns=['author', 'filename', 'content'])"
   ]
  },
  {
   "cell_type": "code",
   "execution_count": 13,
   "metadata": {
    "colab": {
     "base_uri": "https://localhost:8080/",
     "height": 289
    },
    "id": "-a-jNde2foUS",
    "outputId": "5822fbc2-3146-41af-bfe8-7613e0d189f2"
   },
   "outputs": [
    {
     "data": {
      "text/html": [
       "<div>\n",
       "<style scoped>\n",
       "    .dataframe tbody tr th:only-of-type {\n",
       "        vertical-align: middle;\n",
       "    }\n",
       "\n",
       "    .dataframe tbody tr th {\n",
       "        vertical-align: top;\n",
       "    }\n",
       "\n",
       "    .dataframe thead th {\n",
       "        text-align: right;\n",
       "    }\n",
       "</style>\n",
       "<table border=\"1\" class=\"dataframe\">\n",
       "  <thead>\n",
       "    <tr style=\"text-align: right;\">\n",
       "      <th></th>\n",
       "      <th>author</th>\n",
       "      <th>filename</th>\n",
       "      <th>content</th>\n",
       "    </tr>\n",
       "  </thead>\n",
       "  <tbody>\n",
       "    <tr>\n",
       "      <th>0</th>\n",
       "      <td>Zeromski</td>\n",
       "      <td>zeromski-oko-za-oko.txt</td>\n",
       "      <td>Stefan Żeromski\\r\\n\\r\\nOko za oko\\r\\n\\r\\nISBN ...</td>\n",
       "    </tr>\n",
       "    <tr>\n",
       "      <th>1</th>\n",
       "      <td>Zeromski</td>\n",
       "      <td>wszystko-i-nic.txt</td>\n",
       "      <td>Stefan Żeromski\\r\\n\\r\\nWszystko i nic\\r\\n\\r\\nI...</td>\n",
       "    </tr>\n",
       "    <tr>\n",
       "      <th>2</th>\n",
       "      <td>Zeromski</td>\n",
       "      <td>zeromski-rozdziobia-nas-kruki-wrony.txt</td>\n",
       "      <td>Stefan Żeromski\\r\\n\\r\\nRozdzióbią nas kruki, w...</td>\n",
       "    </tr>\n",
       "    <tr>\n",
       "      <th>3</th>\n",
       "      <td>Zeromski</td>\n",
       "      <td>silaczka.txt</td>\n",
       "      <td>Stefan Żeromski\\r\\n\\r\\nSiłaczka\\r\\n\\r\\nISBN 97...</td>\n",
       "    </tr>\n",
       "    <tr>\n",
       "      <th>4</th>\n",
       "      <td>Zeromski</td>\n",
       "      <td>syzyfowe-prace.txt</td>\n",
       "      <td>Stefan Żeromski\\r\\n\\r\\nSyzyfowe prace\\r\\n\\r\\nI...</td>\n",
       "    </tr>\n",
       "  </tbody>\n",
       "</table>\n",
       "</div>"
      ],
      "text/plain": [
       "     author                                 filename  \\\n",
       "0  Zeromski                  zeromski-oko-za-oko.txt   \n",
       "1  Zeromski                       wszystko-i-nic.txt   \n",
       "2  Zeromski  zeromski-rozdziobia-nas-kruki-wrony.txt   \n",
       "3  Zeromski                             silaczka.txt   \n",
       "4  Zeromski                       syzyfowe-prace.txt   \n",
       "\n",
       "                                             content  \n",
       "0  Stefan Żeromski\\r\\n\\r\\nOko za oko\\r\\n\\r\\nISBN ...  \n",
       "1  Stefan Żeromski\\r\\n\\r\\nWszystko i nic\\r\\n\\r\\nI...  \n",
       "2  Stefan Żeromski\\r\\n\\r\\nRozdzióbią nas kruki, w...  \n",
       "3  Stefan Żeromski\\r\\n\\r\\nSiłaczka\\r\\n\\r\\nISBN 97...  \n",
       "4  Stefan Żeromski\\r\\n\\r\\nSyzyfowe prace\\r\\n\\r\\nI...  "
      ]
     },
     "execution_count": 13,
     "metadata": {},
     "output_type": "execute_result"
    }
   ],
   "source": [
    "BOOKS.head()"
   ]
  },
  {
   "cell_type": "code",
   "execution_count": 14,
   "metadata": {
    "colab": {
     "base_uri": "https://localhost:8080/"
    },
    "id": "mL3T5xRghDo1",
    "outputId": "ef951355-eda4-4bdf-83b1-18c05857ef86"
   },
   "outputs": [
    {
     "data": {
      "text/plain": [
       "(42, 3)"
      ]
     },
     "execution_count": 14,
     "metadata": {},
     "output_type": "execute_result"
    }
   ],
   "source": [
    "BOOKS.shape"
   ]
  },
  {
   "cell_type": "code",
   "execution_count": 15,
   "metadata": {
    "colab": {
     "base_uri": "https://localhost:8080/"
    },
    "id": "78hV1-tSiCiv",
    "outputId": "98d6f49d-9d32-4da2-b9db-8fb8eb26169b"
   },
   "outputs": [
    {
     "data": {
      "text/plain": [
       "author      object\n",
       "filename    object\n",
       "content     object\n",
       "dtype: object"
      ]
     },
     "execution_count": 15,
     "metadata": {},
     "output_type": "execute_result"
    }
   ],
   "source": [
    "BOOKS.dtypes"
   ]
  },
  {
   "cell_type": "code",
   "execution_count": 16,
   "metadata": {
    "colab": {
     "base_uri": "https://localhost:8080/",
     "height": 235
    },
    "id": "IALL9CUmiFhM",
    "outputId": "2c4994bf-38d0-4192-862b-ff3e330d3eb0"
   },
   "outputs": [
    {
     "data": {
      "text/html": [
       "<div>\n",
       "<style scoped>\n",
       "    .dataframe tbody tr th:only-of-type {\n",
       "        vertical-align: middle;\n",
       "    }\n",
       "\n",
       "    .dataframe tbody tr th {\n",
       "        vertical-align: top;\n",
       "    }\n",
       "\n",
       "    .dataframe thead th {\n",
       "        text-align: right;\n",
       "    }\n",
       "</style>\n",
       "<table border=\"1\" class=\"dataframe\">\n",
       "  <thead>\n",
       "    <tr style=\"text-align: right;\">\n",
       "      <th></th>\n",
       "      <th>filename</th>\n",
       "      <th>content</th>\n",
       "    </tr>\n",
       "    <tr>\n",
       "      <th>author</th>\n",
       "      <th></th>\n",
       "      <th></th>\n",
       "    </tr>\n",
       "  </thead>\n",
       "  <tbody>\n",
       "    <tr>\n",
       "      <th>Mickiewicz</th>\n",
       "      <td>7</td>\n",
       "      <td>7</td>\n",
       "    </tr>\n",
       "    <tr>\n",
       "      <th>Orzeszkowa</th>\n",
       "      <td>14</td>\n",
       "      <td>14</td>\n",
       "    </tr>\n",
       "    <tr>\n",
       "      <th>Prus</th>\n",
       "      <td>6</td>\n",
       "      <td>6</td>\n",
       "    </tr>\n",
       "    <tr>\n",
       "      <th>Reymont</th>\n",
       "      <td>5</td>\n",
       "      <td>5</td>\n",
       "    </tr>\n",
       "    <tr>\n",
       "      <th>Sienkiewicz</th>\n",
       "      <td>5</td>\n",
       "      <td>5</td>\n",
       "    </tr>\n",
       "    <tr>\n",
       "      <th>Zeromski</th>\n",
       "      <td>5</td>\n",
       "      <td>5</td>\n",
       "    </tr>\n",
       "  </tbody>\n",
       "</table>\n",
       "</div>"
      ],
      "text/plain": [
       "             filename  content\n",
       "author                        \n",
       "Mickiewicz          7        7\n",
       "Orzeszkowa         14       14\n",
       "Prus                6        6\n",
       "Reymont             5        5\n",
       "Sienkiewicz         5        5\n",
       "Zeromski            5        5"
      ]
     },
     "execution_count": 16,
     "metadata": {},
     "output_type": "execute_result"
    }
   ],
   "source": [
    "BOOKS.groupby('author').count()"
   ]
  },
  {
   "cell_type": "code",
   "execution_count": 17,
   "metadata": {},
   "outputs": [],
   "source": [
    "BOOKS.to_pickle(open('var/books.pkl', 'wb+'))"
   ]
  },
  {
   "cell_type": "code",
   "execution_count": 18,
   "metadata": {},
   "outputs": [],
   "source": [
    "BOOKS.to_pickle(open('var/books.pkl', 'wb+'))"
   ]
  }
 ],
 "metadata": {
  "colab": {
   "collapsed_sections": [],
   "name": "01_Eksploracyjna_analiza_dokumentów_tekstowych.ipynb",
   "provenance": [],
   "toc_visible": true
  },
  "kernelspec": {
   "display_name": "Python 3.11.1 64-bit",
   "language": "python",
   "name": "python3"
  },
  "language_info": {
   "codemirror_mode": {
    "name": "ipython",
    "version": 3
   },
   "file_extension": ".py",
   "mimetype": "text/x-python",
   "name": "python",
   "nbconvert_exporter": "python",
   "pygments_lexer": "ipython3",
   "version": "3.11.1"
  },
  "vscode": {
   "interpreter": {
    "hash": "1a1af0ee75eeea9e2e1ee996c87e7a2b11a0bebd85af04bb136d915cefc0abce"
   }
  }
 },
 "nbformat": 4,
 "nbformat_minor": 1
}

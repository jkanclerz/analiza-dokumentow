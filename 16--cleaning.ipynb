{
 "cells": [
  {
   "cell_type": "markdown",
   "metadata": {
    "id": "VhkQMwrapyVx"
   },
   "source": [
    "[![Open In Colab](https://colab.research.google.com/assets/colab-badge.svg)](https://githubtocolab.com/jkanclerz/analiza-dokumentow/blob/main/16--cleaning.ipynb)"
   ]
  },
  {
   "cell_type": "markdown",
   "metadata": {
    "id": "VImENKyPhMTa"
   },
   "source": [
    "## Czyszczenie danych\n",
    "* istotne z perspektywy uwydatnienia poszukiwanych informacji\n"
   ]
  },
  {
   "cell_type": "markdown",
   "metadata": {
    "id": "J60mV44H_AL-"
   },
   "source": [
    "## Stemming\n",
    "bazując na definicji z angielskiej wikipedii jest to proces polegający na wydobyciu z wybranego wyrazu tzw. rdzenia, a więc tej jego części, która jest odporna na odmiany przez przyimki, rodzaje itp.\n",
    "\n"
   ]
  },
  {
   "cell_type": "markdown",
   "metadata": {
    "id": "OoAe73Ct_Mei"
   },
   "source": [
    "## Lematyzacja\n",
    "\n",
    "pojęcie to jest bardzo podobne do powyższego, a oznacza sprowadzenie grupy wyrazów stanowiących odmianę danego zwrotu do wspólnej postaci, umożliwiającej traktowanie ich wszystkich jako te samo słowo."
   ]
  },
  {
   "cell_type": "markdown",
   "metadata": {
    "id": "MN5L3ez-jZEm"
   },
   "source": [
    "## Znaki specjalne, nadmiarowe spacje, znaczniki HTML, inne jeżeli potrzeba"
   ]
  },
  {
   "cell_type": "code",
   "execution_count": 1,
   "metadata": {
    "id": "LvaqQG0xj5w_"
   },
   "outputs": [],
   "source": [
    "test_text = '''\n",
    "Adam Mickiewicz\\r\\n\\r\\nDziady. Widowisko, część I\\r\\n\\r\\n\\r\\n\\r\\n/ Prawa strona teatru — Dziewica w samotnym pokoju — na boku ksiąg mnóstwo, fortepiano, okno z lewej strony w pole; na prawej wielkie zwierciadło; świeca gasnąca na stole i księga rozłożona (romans Valerie). /\\r\\n\\r\\n\\r\\nDZIEWICA\\r\\n\\r\\n/ wstaje od stołu /\\r\\n\\r\\nŚwieco niedobra! właśnie pora była zgasnąć!\\r\\nI nie mogłam doczytać — czyż podobna zasnąć?\\r\\nWaleryjo! Gustawie! anielski Gustawie!\\r\\nAch, tak mi często o was śniło się na jawie,\\r\\nA przez sen — będę z wami, Pan Bóg wie dopóki! -----\\r\\nTa lektura, podobnie jak tysiące innych, dostępna jest na stronie wolnelektury.pl.\\r\\nWersja lektury w opracowaniu merytorycznym i krytycznym (przypisy i motywy) dostępna jest na stronie http://wolnelektury.pl/katalog/lektura/dziady-dziady-widowisko-czesc-i.\\r\\n\\r\\n\n",
    "'''\n"
   ]
  },
  {
   "cell_type": "code",
   "execution_count": 2,
   "metadata": {
    "id": "9WT2qseWj8OR"
   },
   "outputs": [],
   "source": [
    "import re\n",
    "def preprocess_text(text):\n",
    "    text = re.sub(r\"^.*\\n\",\"\", text)\n",
    "    text = re.sub(u\"[ \\n]+\", \" \", text) # newlines -> spaces\n",
    "    text = re.sub(u\"[ \\r]+\", \" \", text) # \\r -> spaces\n",
    "    text = text.strip()\n",
    "    text = re.sub(r\"----- Ta lektura.*\",\"\", text)\n",
    "\n",
    "\n",
    "    return text\n",
    "\n",
    "\n",
    "assert ('\\n' not in preprocess_text(test_text))\n",
    "assert ('\\r' not in preprocess_text(test_text))\n",
    "assert ('  ' not in preprocess_text(test_text))\n",
    "assert ('Ta lektura,' not in preprocess_text(test_text))\n"
   ]
  },
  {
   "cell_type": "code",
   "execution_count": 10,
   "metadata": {
    "colab": {
     "base_uri": "https://localhost:8080/",
     "height": 137
    },
    "id": "VLrSz4zRk-ob",
    "outputId": "1ac33858-8aeb-419e-e313-025ffdbb3d8b"
   },
   "outputs": [],
   "source": [
    "test_text = preprocess_text(test_text)"
   ]
  },
  {
   "cell_type": "code",
   "execution_count": 4,
   "metadata": {
    "id": "E3oMZ2fwnIge"
   },
   "outputs": [],
   "source": [
    "def split_to_sentences(text):\n",
    "  return [re.sub(r\"^ \",\"\",l) for l in re.split('\\.|,|\\?|!|:', text)]\n",
    "\n",
    "assert(['hello world', \"Hello John\"] == split_to_sentences(\"hello world! Hello John\"))"
   ]
  },
  {
   "cell_type": "markdown",
   "metadata": {
    "id": "Dz4CjN7SjVeg"
   },
   "source": [
    "### interpunkcja"
   ]
  },
  {
   "cell_type": "code",
   "execution_count": 5,
   "metadata": {
    "colab": {
     "base_uri": "https://localhost:8080/",
     "height": 35
    },
    "id": "xWaegBkeh1TM",
    "outputId": "88bcbd8f-1731-48e2-f366-aeb35d48d7c7"
   },
   "outputs": [
    {
     "data": {
      "text/plain": [
       "'!\"#$%&\\'()*+,-./:;<=>?@[\\\\]^_`{|}~'"
      ]
     },
     "execution_count": 5,
     "metadata": {},
     "output_type": "execute_result"
    }
   ],
   "source": [
    "import string \n",
    "string.punctuation"
   ]
  },
  {
   "cell_type": "code",
   "execution_count": 6,
   "metadata": {
    "id": "mIxN8jAlifwT"
   },
   "outputs": [],
   "source": [
    "def remove_punct(text):\n",
    "    text_nopunct = \"\".join([char for char in text if char not in string.punctuation])\n",
    "    return text_nopunct"
   ]
  },
  {
   "cell_type": "code",
   "execution_count": 7,
   "metadata": {
    "id": "Y5y_YgrCiloW"
   },
   "outputs": [],
   "source": [
    "assert(remove_punct(\"hello, world!\") == \"hello world\")"
   ]
  },
  {
   "cell_type": "code",
   "execution_count": 11,
   "metadata": {},
   "outputs": [
    {
     "data": {
      "text/plain": [
       "'Adam Mickiewicz Dziady Widowisko część I  Prawa strona teatru — Dziewica w samotnym pokoju — na boku ksiąg mnóstwo fortepiano okno z lewej strony w pole na prawej wielkie zwierciadło świeca gasnąca na stole i księga rozłożona romans Valerie  DZIEWICA  wstaje od stołu  Świeco niedobra właśnie pora była zgasnąć I nie mogłam doczytać — czyż podobna zasnąć Waleryjo Gustawie anielski Gustawie Ach tak mi często o was śniło się na jawie A przez sen — będę z wami Pan Bóg wie dopóki '"
      ]
     },
     "execution_count": 11,
     "metadata": {},
     "output_type": "execute_result"
    }
   ],
   "source": [
    "remove_punct(test_text)"
   ]
  },
  {
   "cell_type": "markdown",
   "metadata": {
    "id": "WYvEZdESxGjc"
   },
   "source": [
    "### Stop words"
   ]
  },
  {
   "cell_type": "code",
   "execution_count": 13,
   "metadata": {},
   "outputs": [
    {
     "name": "stdout",
     "output_type": "stream",
     "text": [
      "Requirement already satisfied: requests in /usr/local/lib/python3.11/site-packages (2.28.2)\n",
      "Requirement already satisfied: charset-normalizer<4,>=2 in /usr/local/lib/python3.11/site-packages (from requests) (3.0.1)\n",
      "Requirement already satisfied: idna<4,>=2.5 in /usr/local/lib/python3.11/site-packages (from requests) (3.4)\n",
      "Requirement already satisfied: urllib3<1.27,>=1.21.1 in /usr/local/lib/python3.11/site-packages (from requests) (1.26.14)\n",
      "Requirement already satisfied: certifi>=2017.4.17 in /usr/local/lib/python3.11/site-packages (from requests) (2022.12.7)\n",
      "\n",
      "\u001b[1m[\u001b[0m\u001b[34;49mnotice\u001b[0m\u001b[1;39;49m]\u001b[0m\u001b[39;49m A new release of pip available: \u001b[0m\u001b[31;49m22.3.1\u001b[0m\u001b[39;49m -> \u001b[0m\u001b[32;49m23.0\u001b[0m\n",
      "\u001b[1m[\u001b[0m\u001b[34;49mnotice\u001b[0m\u001b[1;39;49m]\u001b[0m\u001b[39;49m To update, run: \u001b[0m\u001b[32;49mpython3.11 -m pip install --upgrade pip\u001b[0m\n",
      "Note: you may need to restart the kernel to use updated packages.\n"
     ]
    }
   ],
   "source": [
    "pip install requests"
   ]
  },
  {
   "cell_type": "code",
   "execution_count": 15,
   "metadata": {},
   "outputs": [],
   "source": [
    "import requests"
   ]
  },
  {
   "cell_type": "code",
   "execution_count": 16,
   "metadata": {
    "id": "_ZGWOBrhxeUm"
   },
   "outputs": [],
   "source": [
    "stop_words = (requests\n",
    "         .get('https://raw.githubusercontent.com/bieli/stopwords/master/polish.stopwords.txt')\n",
    "         .text\n",
    "         .split('\\n'))"
   ]
  },
  {
   "cell_type": "code",
   "execution_count": 17,
   "metadata": {
    "colab": {
     "base_uri": "https://localhost:8080/"
    },
    "id": "Bjmr6VLHxi36",
    "outputId": "e2f02f0e-d480-4091-94b3-5ce9a5bcaf1f"
   },
   "outputs": [
    {
     "data": {
      "text/plain": [
       "['a', 'aby', 'ach', 'acz', 'aczkolwiek', 'aj', 'albo', 'ale', 'alez', 'ależ']"
      ]
     },
     "execution_count": 17,
     "metadata": {},
     "output_type": "execute_result"
    }
   ],
   "source": [
    "\n",
    "stop_words[:10]"
   ]
  },
  {
   "cell_type": "code",
   "execution_count": 18,
   "metadata": {
    "id": "aeCZwUwPxEUA"
   },
   "outputs": [],
   "source": [
    "def remove_stop_words(text):\n",
    "  return \" \".join([word for word in text.split(' ') if word not in stop_words])\n",
    "\n",
    "assert \"Cześć czołem\" == remove_stop_words(\"Cześć i czołem\")"
   ]
  },
  {
   "cell_type": "code",
   "execution_count": 19,
   "metadata": {},
   "outputs": [
    {
     "name": "stdout",
     "output_type": "stream",
     "text": [
      "Requirement already satisfied: pandas in /usr/local/lib/python3.11/site-packages (1.5.3)\n",
      "Requirement already satisfied: python-dateutil>=2.8.1 in /Users/jkanclerz/Library/Python/3.11/lib/python/site-packages (from pandas) (2.8.2)\n",
      "Requirement already satisfied: pytz>=2020.1 in /usr/local/lib/python3.11/site-packages (from pandas) (2022.7.1)\n",
      "Requirement already satisfied: numpy>=1.21.0 in /usr/local/lib/python3.11/site-packages (from pandas) (1.24.2)\n",
      "Requirement already satisfied: six>=1.5 in /usr/local/lib/python3.11/site-packages (from python-dateutil>=2.8.1->pandas) (1.16.0)\n",
      "\n",
      "\u001b[1m[\u001b[0m\u001b[34;49mnotice\u001b[0m\u001b[1;39;49m]\u001b[0m\u001b[39;49m A new release of pip available: \u001b[0m\u001b[31;49m22.3.1\u001b[0m\u001b[39;49m -> \u001b[0m\u001b[32;49m23.0\u001b[0m\n",
      "\u001b[1m[\u001b[0m\u001b[34;49mnotice\u001b[0m\u001b[1;39;49m]\u001b[0m\u001b[39;49m To update, run: \u001b[0m\u001b[32;49mpython3.11 -m pip install --upgrade pip\u001b[0m\n",
      "Note: you may need to restart the kernel to use updated packages.\n"
     ]
    }
   ],
   "source": [
    "pip install pandas"
   ]
  },
  {
   "cell_type": "code",
   "execution_count": 21,
   "metadata": {},
   "outputs": [],
   "source": [
    "import pandas as pd\n",
    "\n",
    "BOOKS = pd.read_pickle('var/books.pkl')"
   ]
  },
  {
   "cell_type": "code",
   "execution_count": 22,
   "metadata": {},
   "outputs": [
    {
     "data": {
      "text/html": [
       "<div>\n",
       "<style scoped>\n",
       "    .dataframe tbody tr th:only-of-type {\n",
       "        vertical-align: middle;\n",
       "    }\n",
       "\n",
       "    .dataframe tbody tr th {\n",
       "        vertical-align: top;\n",
       "    }\n",
       "\n",
       "    .dataframe thead th {\n",
       "        text-align: right;\n",
       "    }\n",
       "</style>\n",
       "<table border=\"1\" class=\"dataframe\">\n",
       "  <thead>\n",
       "    <tr style=\"text-align: right;\">\n",
       "      <th></th>\n",
       "      <th>author</th>\n",
       "      <th>filename</th>\n",
       "      <th>content</th>\n",
       "    </tr>\n",
       "  </thead>\n",
       "  <tbody>\n",
       "    <tr>\n",
       "      <th>0</th>\n",
       "      <td>Zeromski</td>\n",
       "      <td>zeromski-oko-za-oko.txt</td>\n",
       "      <td>Stefan Żeromski\\r\\n\\r\\nOko za oko\\r\\n\\r\\nISBN ...</td>\n",
       "    </tr>\n",
       "    <tr>\n",
       "      <th>1</th>\n",
       "      <td>Zeromski</td>\n",
       "      <td>wszystko-i-nic.txt</td>\n",
       "      <td>Stefan Żeromski\\r\\n\\r\\nWszystko i nic\\r\\n\\r\\nI...</td>\n",
       "    </tr>\n",
       "    <tr>\n",
       "      <th>2</th>\n",
       "      <td>Zeromski</td>\n",
       "      <td>zeromski-rozdziobia-nas-kruki-wrony.txt</td>\n",
       "      <td>Stefan Żeromski\\r\\n\\r\\nRozdzióbią nas kruki, w...</td>\n",
       "    </tr>\n",
       "    <tr>\n",
       "      <th>3</th>\n",
       "      <td>Zeromski</td>\n",
       "      <td>silaczka.txt</td>\n",
       "      <td>Stefan Żeromski\\r\\n\\r\\nSiłaczka\\r\\n\\r\\nISBN 97...</td>\n",
       "    </tr>\n",
       "    <tr>\n",
       "      <th>4</th>\n",
       "      <td>Zeromski</td>\n",
       "      <td>syzyfowe-prace.txt</td>\n",
       "      <td>Stefan Żeromski\\r\\n\\r\\nSyzyfowe prace\\r\\n\\r\\nI...</td>\n",
       "    </tr>\n",
       "  </tbody>\n",
       "</table>\n",
       "</div>"
      ],
      "text/plain": [
       "     author                                 filename  \\\n",
       "0  Zeromski                  zeromski-oko-za-oko.txt   \n",
       "1  Zeromski                       wszystko-i-nic.txt   \n",
       "2  Zeromski  zeromski-rozdziobia-nas-kruki-wrony.txt   \n",
       "3  Zeromski                             silaczka.txt   \n",
       "4  Zeromski                       syzyfowe-prace.txt   \n",
       "\n",
       "                                             content  \n",
       "0  Stefan Żeromski\\r\\n\\r\\nOko za oko\\r\\n\\r\\nISBN ...  \n",
       "1  Stefan Żeromski\\r\\n\\r\\nWszystko i nic\\r\\n\\r\\nI...  \n",
       "2  Stefan Żeromski\\r\\n\\r\\nRozdzióbią nas kruki, w...  \n",
       "3  Stefan Żeromski\\r\\n\\r\\nSiłaczka\\r\\n\\r\\nISBN 97...  \n",
       "4  Stefan Żeromski\\r\\n\\r\\nSyzyfowe prace\\r\\n\\r\\nI...  "
      ]
     },
     "execution_count": 22,
     "metadata": {},
     "output_type": "execute_result"
    }
   ],
   "source": [
    "BOOKS.head()"
   ]
  },
  {
   "cell_type": "code",
   "execution_count": 23,
   "metadata": {
    "id": "HS_gsLONit3p"
   },
   "outputs": [],
   "source": [
    "BOOKS['content_txt'] = (BOOKS.content\n",
    "                             .apply(preprocess_text)\n",
    "                             .apply(lambda s: s.lower())\n",
    "                             .apply(remove_stop_words)\n",
    "                             .apply(split_to_sentences)\n",
    "                            )"
   ]
  },
  {
   "cell_type": "code",
   "execution_count": 28,
   "metadata": {
    "id": "oMcwYFAzm2tC"
   },
   "outputs": [],
   "source": [
    "BOOK_LINES = BOOKS[['author', 'content_txt']].explode('content_txt')"
   ]
  },
  {
   "cell_type": "code",
   "execution_count": 25,
   "metadata": {
    "id": "b3I0EIskoMAV"
   },
   "outputs": [],
   "source": [
    "BOOK_LINES = BOOK_LINES.reset_index(drop=True)"
   ]
  },
  {
   "cell_type": "code",
   "execution_count": 26,
   "metadata": {
    "colab": {
     "base_uri": "https://localhost:8080/",
     "height": 204
    },
    "id": "u9B0TQRFpVw2",
    "outputId": "40c299d8-b7d3-4327-9826-b92e883bf84b"
   },
   "outputs": [
    {
     "data": {
      "text/html": [
       "<div>\n",
       "<style scoped>\n",
       "    .dataframe tbody tr th:only-of-type {\n",
       "        vertical-align: middle;\n",
       "    }\n",
       "\n",
       "    .dataframe tbody tr th {\n",
       "        vertical-align: top;\n",
       "    }\n",
       "\n",
       "    .dataframe thead th {\n",
       "        text-align: right;\n",
       "    }\n",
       "</style>\n",
       "<table border=\"1\" class=\"dataframe\">\n",
       "  <thead>\n",
       "    <tr style=\"text-align: right;\">\n",
       "      <th></th>\n",
       "      <th>author</th>\n",
       "      <th>content_txt</th>\n",
       "    </tr>\n",
       "  </thead>\n",
       "  <tbody>\n",
       "    <tr>\n",
       "      <th>0</th>\n",
       "      <td>Zeromski</td>\n",
       "      <td>oko oko isbn 978-83-288-2962-6 zawiadowca stac...</td>\n",
       "    </tr>\n",
       "    <tr>\n",
       "      <th>1</th>\n",
       "      <td>Zeromski</td>\n",
       "      <td>połączyć towarzystwem</td>\n",
       "    </tr>\n",
       "    <tr>\n",
       "      <th>2</th>\n",
       "      <td>Zeromski</td>\n",
       "      <td>trzema kwadransami opuścił</td>\n",
       "    </tr>\n",
       "    <tr>\n",
       "      <th>3</th>\n",
       "      <td>Zeromski</td>\n",
       "      <td>otwarł drzwi wchodowe</td>\n",
       "    </tr>\n",
       "    <tr>\n",
       "      <th>4</th>\n",
       "      <td>Zeromski</td>\n",
       "      <td>peronu wprost owej klasy wiodące</td>\n",
       "    </tr>\n",
       "  </tbody>\n",
       "</table>\n",
       "</div>"
      ],
      "text/plain": [
       "     author                                        content_txt\n",
       "0  Zeromski  oko oko isbn 978-83-288-2962-6 zawiadowca stac...\n",
       "1  Zeromski                              połączyć towarzystwem\n",
       "2  Zeromski                         trzema kwadransami opuścił\n",
       "3  Zeromski                              otwarł drzwi wchodowe\n",
       "4  Zeromski                   peronu wprost owej klasy wiodące"
      ]
     },
     "execution_count": 26,
     "metadata": {},
     "output_type": "execute_result"
    }
   ],
   "source": [
    "BOOK_LINES.head()"
   ]
  },
  {
   "cell_type": "code",
   "execution_count": null,
   "metadata": {
    "colab": {
     "base_uri": "https://localhost:8080/",
     "height": 235
    },
    "id": "zK9ml_J4pkVF",
    "outputId": "2be4eacc-c2f4-4965-9814-52dbadf827dd"
   },
   "outputs": [
    {
     "data": {
      "text/html": [
       "<div>\n",
       "<style scoped>\n",
       "    .dataframe tbody tr th:only-of-type {\n",
       "        vertical-align: middle;\n",
       "    }\n",
       "\n",
       "    .dataframe tbody tr th {\n",
       "        vertical-align: top;\n",
       "    }\n",
       "\n",
       "    .dataframe thead th {\n",
       "        text-align: right;\n",
       "    }\n",
       "</style>\n",
       "<table border=\"1\" class=\"dataframe\">\n",
       "  <thead>\n",
       "    <tr style=\"text-align: right;\">\n",
       "      <th></th>\n",
       "      <th>content_txt</th>\n",
       "    </tr>\n",
       "    <tr>\n",
       "      <th>author</th>\n",
       "      <th></th>\n",
       "    </tr>\n",
       "  </thead>\n",
       "  <tbody>\n",
       "    <tr>\n",
       "      <th>Mickiewicz</th>\n",
       "      <td>3214</td>\n",
       "    </tr>\n",
       "    <tr>\n",
       "      <th>Orzeszkowa</th>\n",
       "      <td>73332</td>\n",
       "    </tr>\n",
       "    <tr>\n",
       "      <th>Prus</th>\n",
       "      <td>69622</td>\n",
       "    </tr>\n",
       "    <tr>\n",
       "      <th>Reymont</th>\n",
       "      <td>77587</td>\n",
       "    </tr>\n",
       "    <tr>\n",
       "      <th>Sienkiewicz</th>\n",
       "      <td>105748</td>\n",
       "    </tr>\n",
       "  </tbody>\n",
       "</table>\n",
       "</div>"
      ],
      "text/plain": [
       "             content_txt\n",
       "author                  \n",
       "Mickiewicz          3214\n",
       "Orzeszkowa         73332\n",
       "Prus               69622\n",
       "Reymont            77587\n",
       "Sienkiewicz       105748"
      ]
     },
     "execution_count": 456,
     "metadata": {},
     "output_type": "execute_result"
    }
   ],
   "source": [
    "BOOK_LINES.groupby('author').count()"
   ]
  },
  {
   "cell_type": "markdown",
   "metadata": {
    "id": "TK1jmVyUp3HU"
   },
   "source": [
    "Duża różnica w elementach danej klasy!! Może mieć wpływ na rezultaty"
   ]
  },
  {
   "cell_type": "code",
   "execution_count": 30,
   "metadata": {
    "id": "6pWHWKiFpxWS"
   },
   "outputs": [],
   "source": [
    "BOOK_LINES['words'] = BOOK_LINES.content_txt.apply(lambda s: len(s.split()))"
   ]
  },
  {
   "cell_type": "code",
   "execution_count": 31,
   "metadata": {
    "colab": {
     "base_uri": "https://localhost:8080/",
     "height": 235
    },
    "id": "PRVIqEdOsSXU",
    "outputId": "fd7c0d93-3b2a-493d-9a50-07b0391fe621"
   },
   "outputs": [
    {
     "data": {
      "text/html": [
       "<div>\n",
       "<style scoped>\n",
       "    .dataframe tbody tr th:only-of-type {\n",
       "        vertical-align: middle;\n",
       "    }\n",
       "\n",
       "    .dataframe tbody tr th {\n",
       "        vertical-align: top;\n",
       "    }\n",
       "\n",
       "    .dataframe thead th {\n",
       "        text-align: right;\n",
       "    }\n",
       "</style>\n",
       "<table border=\"1\" class=\"dataframe\">\n",
       "  <thead>\n",
       "    <tr style=\"text-align: right;\">\n",
       "      <th></th>\n",
       "      <th>count</th>\n",
       "      <th>mean</th>\n",
       "      <th>std</th>\n",
       "      <th>min</th>\n",
       "      <th>25%</th>\n",
       "      <th>50%</th>\n",
       "      <th>75%</th>\n",
       "      <th>max</th>\n",
       "    </tr>\n",
       "    <tr>\n",
       "      <th>author</th>\n",
       "      <th></th>\n",
       "      <th></th>\n",
       "      <th></th>\n",
       "      <th></th>\n",
       "      <th></th>\n",
       "      <th></th>\n",
       "      <th></th>\n",
       "      <th></th>\n",
       "    </tr>\n",
       "  </thead>\n",
       "  <tbody>\n",
       "    <tr>\n",
       "      <th>Mickiewicz</th>\n",
       "      <td>17355.0</td>\n",
       "      <td>3.239700</td>\n",
       "      <td>2.383035</td>\n",
       "      <td>0.0</td>\n",
       "      <td>2.0</td>\n",
       "      <td>3.0</td>\n",
       "      <td>4.0</td>\n",
       "      <td>59.0</td>\n",
       "    </tr>\n",
       "    <tr>\n",
       "      <th>Orzeszkowa</th>\n",
       "      <td>73332.0</td>\n",
       "      <td>3.805092</td>\n",
       "      <td>2.749076</td>\n",
       "      <td>0.0</td>\n",
       "      <td>2.0</td>\n",
       "      <td>3.0</td>\n",
       "      <td>5.0</td>\n",
       "      <td>40.0</td>\n",
       "    </tr>\n",
       "    <tr>\n",
       "      <th>Prus</th>\n",
       "      <td>69622.0</td>\n",
       "      <td>3.643044</td>\n",
       "      <td>2.480359</td>\n",
       "      <td>0.0</td>\n",
       "      <td>2.0</td>\n",
       "      <td>3.0</td>\n",
       "      <td>5.0</td>\n",
       "      <td>35.0</td>\n",
       "    </tr>\n",
       "    <tr>\n",
       "      <th>Reymont</th>\n",
       "      <td>77586.0</td>\n",
       "      <td>3.336478</td>\n",
       "      <td>2.182561</td>\n",
       "      <td>0.0</td>\n",
       "      <td>2.0</td>\n",
       "      <td>3.0</td>\n",
       "      <td>4.0</td>\n",
       "      <td>40.0</td>\n",
       "    </tr>\n",
       "    <tr>\n",
       "      <th>Sienkiewicz</th>\n",
       "      <td>105749.0</td>\n",
       "      <td>3.389583</td>\n",
       "      <td>2.235611</td>\n",
       "      <td>0.0</td>\n",
       "      <td>2.0</td>\n",
       "      <td>3.0</td>\n",
       "      <td>4.0</td>\n",
       "      <td>28.0</td>\n",
       "    </tr>\n",
       "    <tr>\n",
       "      <th>Zeromski</th>\n",
       "      <td>17293.0</td>\n",
       "      <td>3.931128</td>\n",
       "      <td>2.749582</td>\n",
       "      <td>0.0</td>\n",
       "      <td>2.0</td>\n",
       "      <td>3.0</td>\n",
       "      <td>5.0</td>\n",
       "      <td>35.0</td>\n",
       "    </tr>\n",
       "  </tbody>\n",
       "</table>\n",
       "</div>"
      ],
      "text/plain": [
       "                count      mean       std  min  25%  50%  75%   max\n",
       "author                                                             \n",
       "Mickiewicz    17355.0  3.239700  2.383035  0.0  2.0  3.0  4.0  59.0\n",
       "Orzeszkowa    73332.0  3.805092  2.749076  0.0  2.0  3.0  5.0  40.0\n",
       "Prus          69622.0  3.643044  2.480359  0.0  2.0  3.0  5.0  35.0\n",
       "Reymont       77586.0  3.336478  2.182561  0.0  2.0  3.0  4.0  40.0\n",
       "Sienkiewicz  105749.0  3.389583  2.235611  0.0  2.0  3.0  4.0  28.0\n",
       "Zeromski      17293.0  3.931128  2.749582  0.0  2.0  3.0  5.0  35.0"
      ]
     },
     "execution_count": 31,
     "metadata": {},
     "output_type": "execute_result"
    }
   ],
   "source": [
    "BOOK_LINES.groupby('author')['words'].describe()\n"
   ]
  },
  {
   "cell_type": "code",
   "execution_count": 32,
   "metadata": {
    "id": "zSphnG-Bs5uN"
   },
   "outputs": [],
   "source": [
    "BOOK_LINES = BOOK_LINES[BOOK_LINES['words'] != 0]"
   ]
  },
  {
   "cell_type": "code",
   "execution_count": 33,
   "metadata": {
    "colab": {
     "base_uri": "https://localhost:8080/"
    },
    "id": "9votvf7asmzG",
    "outputId": "91599880-89b8-45a8-f2f8-01d4d78952cc"
   },
   "outputs": [
    {
     "data": {
      "text/plain": [
       "author\n",
       "Mickiewicz      9.0\n",
       "Orzeszkowa     11.0\n",
       "Prus           11.0\n",
       "Reymont         9.0\n",
       "Sienkiewicz    10.0\n",
       "Zeromski       12.0\n",
       "Name: words, dtype: float64"
      ]
     },
     "execution_count": 33,
     "metadata": {},
     "output_type": "execute_result"
    }
   ],
   "source": [
    "BOOK_LINES.groupby('author')['words'].quantile(0.98)"
   ]
  },
  {
   "cell_type": "code",
   "execution_count": 35,
   "metadata": {
    "colab": {
     "base_uri": "https://localhost:8080/",
     "height": 235
    },
    "id": "zJXtgj4vsom-",
    "outputId": "29238dcb-bfaa-4751-a20c-5b6908ad2198"
   },
   "outputs": [
    {
     "data": {
      "text/html": [
       "<div>\n",
       "<style scoped>\n",
       "    .dataframe tbody tr th:only-of-type {\n",
       "        vertical-align: middle;\n",
       "    }\n",
       "\n",
       "    .dataframe tbody tr th {\n",
       "        vertical-align: top;\n",
       "    }\n",
       "\n",
       "    .dataframe thead th {\n",
       "        text-align: right;\n",
       "    }\n",
       "</style>\n",
       "<table border=\"1\" class=\"dataframe\">\n",
       "  <thead>\n",
       "    <tr style=\"text-align: right;\">\n",
       "      <th></th>\n",
       "      <th>count</th>\n",
       "      <th>mean</th>\n",
       "      <th>std</th>\n",
       "      <th>min</th>\n",
       "      <th>25%</th>\n",
       "      <th>50%</th>\n",
       "      <th>75%</th>\n",
       "      <th>max</th>\n",
       "    </tr>\n",
       "    <tr>\n",
       "      <th>author</th>\n",
       "      <th></th>\n",
       "      <th></th>\n",
       "      <th></th>\n",
       "      <th></th>\n",
       "      <th></th>\n",
       "      <th></th>\n",
       "      <th></th>\n",
       "      <th></th>\n",
       "    </tr>\n",
       "  </thead>\n",
       "  <tbody>\n",
       "    <tr>\n",
       "      <th>Mickiewicz</th>\n",
       "      <td>17341.0</td>\n",
       "      <td>3.242316</td>\n",
       "      <td>2.382217</td>\n",
       "      <td>1.0</td>\n",
       "      <td>2.0</td>\n",
       "      <td>3.0</td>\n",
       "      <td>4.0</td>\n",
       "      <td>59.0</td>\n",
       "    </tr>\n",
       "    <tr>\n",
       "      <th>Orzeszkowa</th>\n",
       "      <td>73230.0</td>\n",
       "      <td>3.810392</td>\n",
       "      <td>2.747317</td>\n",
       "      <td>1.0</td>\n",
       "      <td>2.0</td>\n",
       "      <td>3.0</td>\n",
       "      <td>5.0</td>\n",
       "      <td>40.0</td>\n",
       "    </tr>\n",
       "    <tr>\n",
       "      <th>Prus</th>\n",
       "      <td>69588.0</td>\n",
       "      <td>3.644824</td>\n",
       "      <td>2.479657</td>\n",
       "      <td>1.0</td>\n",
       "      <td>2.0</td>\n",
       "      <td>3.0</td>\n",
       "      <td>5.0</td>\n",
       "      <td>35.0</td>\n",
       "    </tr>\n",
       "    <tr>\n",
       "      <th>Reymont</th>\n",
       "      <td>77559.0</td>\n",
       "      <td>3.337640</td>\n",
       "      <td>2.182053</td>\n",
       "      <td>1.0</td>\n",
       "      <td>2.0</td>\n",
       "      <td>3.0</td>\n",
       "      <td>4.0</td>\n",
       "      <td>40.0</td>\n",
       "    </tr>\n",
       "    <tr>\n",
       "      <th>Sienkiewicz</th>\n",
       "      <td>105627.0</td>\n",
       "      <td>3.393498</td>\n",
       "      <td>2.233930</td>\n",
       "      <td>1.0</td>\n",
       "      <td>2.0</td>\n",
       "      <td>3.0</td>\n",
       "      <td>4.0</td>\n",
       "      <td>28.0</td>\n",
       "    </tr>\n",
       "    <tr>\n",
       "      <th>Zeromski</th>\n",
       "      <td>17274.0</td>\n",
       "      <td>3.935452</td>\n",
       "      <td>2.747999</td>\n",
       "      <td>1.0</td>\n",
       "      <td>2.0</td>\n",
       "      <td>3.0</td>\n",
       "      <td>5.0</td>\n",
       "      <td>35.0</td>\n",
       "    </tr>\n",
       "  </tbody>\n",
       "</table>\n",
       "</div>"
      ],
      "text/plain": [
       "                count      mean       std  min  25%  50%  75%   max\n",
       "author                                                             \n",
       "Mickiewicz    17341.0  3.242316  2.382217  1.0  2.0  3.0  4.0  59.0\n",
       "Orzeszkowa    73230.0  3.810392  2.747317  1.0  2.0  3.0  5.0  40.0\n",
       "Prus          69588.0  3.644824  2.479657  1.0  2.0  3.0  5.0  35.0\n",
       "Reymont       77559.0  3.337640  2.182053  1.0  2.0  3.0  4.0  40.0\n",
       "Sienkiewicz  105627.0  3.393498  2.233930  1.0  2.0  3.0  4.0  28.0\n",
       "Zeromski      17274.0  3.935452  2.747999  1.0  2.0  3.0  5.0  35.0"
      ]
     },
     "execution_count": 35,
     "metadata": {},
     "output_type": "execute_result"
    }
   ],
   "source": [
    "BOOK_LINES.groupby('author')['words'].describe()"
   ]
  },
  {
   "cell_type": "code",
   "execution_count": 39,
   "metadata": {},
   "outputs": [
    {
     "name": "stdout",
     "output_type": "stream",
     "text": [
      "Collecting wordcloud\n",
      "  Using cached wordcloud-1.8.2.2.tar.gz (220 kB)\n",
      "  Preparing metadata (setup.py) ... \u001b[?25ldone\n",
      "\u001b[?25hRequirement already satisfied: numpy>=1.6.1 in /usr/local/lib/python3.11/site-packages (from wordcloud) (1.24.2)\n",
      "Requirement already satisfied: pillow in /usr/local/lib/python3.11/site-packages (from wordcloud) (9.4.0)\n",
      "Requirement already satisfied: matplotlib in /usr/local/lib/python3.11/site-packages (from wordcloud) (3.6.3)\n",
      "Requirement already satisfied: contourpy>=1.0.1 in /usr/local/lib/python3.11/site-packages (from matplotlib->wordcloud) (1.0.7)\n",
      "Requirement already satisfied: cycler>=0.10 in /usr/local/lib/python3.11/site-packages (from matplotlib->wordcloud) (0.11.0)\n",
      "Requirement already satisfied: fonttools>=4.22.0 in /usr/local/lib/python3.11/site-packages (from matplotlib->wordcloud) (4.38.0)\n",
      "Requirement already satisfied: kiwisolver>=1.0.1 in /usr/local/lib/python3.11/site-packages (from matplotlib->wordcloud) (1.4.4)\n",
      "Requirement already satisfied: packaging>=20.0 in /Users/jkanclerz/Library/Python/3.11/lib/python/site-packages (from matplotlib->wordcloud) (23.0)\n",
      "Requirement already satisfied: pyparsing>=2.2.1 in /usr/local/lib/python3.11/site-packages (from matplotlib->wordcloud) (3.0.9)\n",
      "Requirement already satisfied: python-dateutil>=2.7 in /Users/jkanclerz/Library/Python/3.11/lib/python/site-packages (from matplotlib->wordcloud) (2.8.2)\n",
      "Requirement already satisfied: six>=1.5 in /usr/local/lib/python3.11/site-packages (from python-dateutil>=2.7->matplotlib->wordcloud) (1.16.0)\n",
      "Building wheels for collected packages: wordcloud\n",
      "  Building wheel for wordcloud (setup.py) ... \u001b[?25lerror\n",
      "  \u001b[1;31merror\u001b[0m: \u001b[1msubprocess-exited-with-error\u001b[0m\n",
      "  \n",
      "  \u001b[31m×\u001b[0m \u001b[32mpython setup.py bdist_wheel\u001b[0m did not run successfully.\n",
      "  \u001b[31m│\u001b[0m exit code: \u001b[1;36m1\u001b[0m\n",
      "  \u001b[31m╰─>\u001b[0m \u001b[31m[27 lines of output]\u001b[0m\n",
      "  \u001b[31m   \u001b[0m running bdist_wheel\n",
      "  \u001b[31m   \u001b[0m running build\n",
      "  \u001b[31m   \u001b[0m running build_py\n",
      "  \u001b[31m   \u001b[0m creating build\n",
      "  \u001b[31m   \u001b[0m creating build/lib.macosx-13-x86_64-cpython-311\n",
      "  \u001b[31m   \u001b[0m creating build/lib.macosx-13-x86_64-cpython-311/wordcloud\n",
      "  \u001b[31m   \u001b[0m copying wordcloud/wordcloud_cli.py -> build/lib.macosx-13-x86_64-cpython-311/wordcloud\n",
      "  \u001b[31m   \u001b[0m copying wordcloud/_version.py -> build/lib.macosx-13-x86_64-cpython-311/wordcloud\n",
      "  \u001b[31m   \u001b[0m copying wordcloud/__init__.py -> build/lib.macosx-13-x86_64-cpython-311/wordcloud\n",
      "  \u001b[31m   \u001b[0m copying wordcloud/tokenization.py -> build/lib.macosx-13-x86_64-cpython-311/wordcloud\n",
      "  \u001b[31m   \u001b[0m copying wordcloud/wordcloud.py -> build/lib.macosx-13-x86_64-cpython-311/wordcloud\n",
      "  \u001b[31m   \u001b[0m copying wordcloud/color_from_image.py -> build/lib.macosx-13-x86_64-cpython-311/wordcloud\n",
      "  \u001b[31m   \u001b[0m copying wordcloud/__main__.py -> build/lib.macosx-13-x86_64-cpython-311/wordcloud\n",
      "  \u001b[31m   \u001b[0m copying wordcloud/stopwords -> build/lib.macosx-13-x86_64-cpython-311/wordcloud\n",
      "  \u001b[31m   \u001b[0m copying wordcloud/DroidSansMono.ttf -> build/lib.macosx-13-x86_64-cpython-311/wordcloud\n",
      "  \u001b[31m   \u001b[0m UPDATING build/lib.macosx-13-x86_64-cpython-311/wordcloud/_version.py\n",
      "  \u001b[31m   \u001b[0m set build/lib.macosx-13-x86_64-cpython-311/wordcloud/_version.py to '1.8.2.2'\n",
      "  \u001b[31m   \u001b[0m running build_ext\n",
      "  \u001b[31m   \u001b[0m building 'wordcloud.query_integral_image' extension\n",
      "  \u001b[31m   \u001b[0m creating build/temp.macosx-13-x86_64-cpython-311\n",
      "  \u001b[31m   \u001b[0m creating build/temp.macosx-13-x86_64-cpython-311/wordcloud\n",
      "  \u001b[31m   \u001b[0m clang -Wsign-compare -Wunreachable-code -fno-common -dynamic -DNDEBUG -g -fwrapv -O3 -Wall -isysroot /Library/Developer/CommandLineTools/SDKs/MacOSX13.sdk -I/usr/local/opt/python@3.11/Frameworks/Python.framework/Versions/3.11/include/python3.11 -c wordcloud/query_integral_image.c -o build/temp.macosx-13-x86_64-cpython-311/wordcloud/query_integral_image.o\n",
      "  \u001b[31m   \u001b[0m wordcloud/query_integral_image.c:196:12: fatal error: 'longintrepr.h' file not found\n",
      "  \u001b[31m   \u001b[0m   #include \"longintrepr.h\"\n",
      "  \u001b[31m   \u001b[0m            ^~~~~~~~~~~~~~~\n",
      "  \u001b[31m   \u001b[0m 1 error generated.\n",
      "  \u001b[31m   \u001b[0m error: command '/usr/bin/clang' failed with exit code 1\n",
      "  \u001b[31m   \u001b[0m \u001b[31m[end of output]\u001b[0m\n",
      "  \n",
      "  \u001b[1;35mnote\u001b[0m: This error originates from a subprocess, and is likely not a problem with pip.\n",
      "\u001b[31m  ERROR: Failed building wheel for wordcloud\u001b[0m\u001b[31m\n",
      "\u001b[0m\u001b[?25h  Running setup.py clean for wordcloud\n",
      "Failed to build wordcloud\n",
      "Installing collected packages: wordcloud\n",
      "  Running setup.py install for wordcloud ... \u001b[?25lerror\n",
      "  \u001b[1;31merror\u001b[0m: \u001b[1msubprocess-exited-with-error\u001b[0m\n",
      "  \n",
      "  \u001b[31m×\u001b[0m \u001b[32mRunning setup.py install for wordcloud\u001b[0m did not run successfully.\n",
      "  \u001b[31m│\u001b[0m exit code: \u001b[1;36m1\u001b[0m\n",
      "  \u001b[31m╰─>\u001b[0m \u001b[31m[29 lines of output]\u001b[0m\n",
      "  \u001b[31m   \u001b[0m running install\n",
      "  \u001b[31m   \u001b[0m /usr/local/lib/python3.11/site-packages/setuptools/command/install.py:34: SetuptoolsDeprecationWarning: setup.py install is deprecated. Use build and pip and other standards-based tools.\n",
      "  \u001b[31m   \u001b[0m   warnings.warn(\n",
      "  \u001b[31m   \u001b[0m running build\n",
      "  \u001b[31m   \u001b[0m running build_py\n",
      "  \u001b[31m   \u001b[0m creating build\n",
      "  \u001b[31m   \u001b[0m creating build/lib.macosx-13-x86_64-cpython-311\n",
      "  \u001b[31m   \u001b[0m creating build/lib.macosx-13-x86_64-cpython-311/wordcloud\n",
      "  \u001b[31m   \u001b[0m copying wordcloud/wordcloud_cli.py -> build/lib.macosx-13-x86_64-cpython-311/wordcloud\n",
      "  \u001b[31m   \u001b[0m copying wordcloud/_version.py -> build/lib.macosx-13-x86_64-cpython-311/wordcloud\n",
      "  \u001b[31m   \u001b[0m copying wordcloud/__init__.py -> build/lib.macosx-13-x86_64-cpython-311/wordcloud\n",
      "  \u001b[31m   \u001b[0m copying wordcloud/tokenization.py -> build/lib.macosx-13-x86_64-cpython-311/wordcloud\n",
      "  \u001b[31m   \u001b[0m copying wordcloud/wordcloud.py -> build/lib.macosx-13-x86_64-cpython-311/wordcloud\n",
      "  \u001b[31m   \u001b[0m copying wordcloud/color_from_image.py -> build/lib.macosx-13-x86_64-cpython-311/wordcloud\n",
      "  \u001b[31m   \u001b[0m copying wordcloud/__main__.py -> build/lib.macosx-13-x86_64-cpython-311/wordcloud\n",
      "  \u001b[31m   \u001b[0m copying wordcloud/stopwords -> build/lib.macosx-13-x86_64-cpython-311/wordcloud\n",
      "  \u001b[31m   \u001b[0m copying wordcloud/DroidSansMono.ttf -> build/lib.macosx-13-x86_64-cpython-311/wordcloud\n",
      "  \u001b[31m   \u001b[0m UPDATING build/lib.macosx-13-x86_64-cpython-311/wordcloud/_version.py\n",
      "  \u001b[31m   \u001b[0m set build/lib.macosx-13-x86_64-cpython-311/wordcloud/_version.py to '1.8.2.2'\n",
      "  \u001b[31m   \u001b[0m running build_ext\n",
      "  \u001b[31m   \u001b[0m building 'wordcloud.query_integral_image' extension\n",
      "  \u001b[31m   \u001b[0m creating build/temp.macosx-13-x86_64-cpython-311\n",
      "  \u001b[31m   \u001b[0m creating build/temp.macosx-13-x86_64-cpython-311/wordcloud\n",
      "  \u001b[31m   \u001b[0m clang -Wsign-compare -Wunreachable-code -fno-common -dynamic -DNDEBUG -g -fwrapv -O3 -Wall -isysroot /Library/Developer/CommandLineTools/SDKs/MacOSX13.sdk -I/usr/local/opt/python@3.11/Frameworks/Python.framework/Versions/3.11/include/python3.11 -c wordcloud/query_integral_image.c -o build/temp.macosx-13-x86_64-cpython-311/wordcloud/query_integral_image.o\n",
      "  \u001b[31m   \u001b[0m wordcloud/query_integral_image.c:196:12: fatal error: 'longintrepr.h' file not found\n",
      "  \u001b[31m   \u001b[0m   #include \"longintrepr.h\"\n",
      "  \u001b[31m   \u001b[0m            ^~~~~~~~~~~~~~~\n",
      "  \u001b[31m   \u001b[0m 1 error generated.\n",
      "  \u001b[31m   \u001b[0m error: command '/usr/bin/clang' failed with exit code 1\n",
      "  \u001b[31m   \u001b[0m \u001b[31m[end of output]\u001b[0m\n",
      "  \n",
      "  \u001b[1;35mnote\u001b[0m: This error originates from a subprocess, and is likely not a problem with pip.\n",
      "\u001b[?25h\u001b[1;31merror\u001b[0m: \u001b[1mlegacy-install-failure\u001b[0m\n",
      "\n",
      "\u001b[31m×\u001b[0m Encountered error while trying to install package.\n",
      "\u001b[31m╰─>\u001b[0m wordcloud\n",
      "\n",
      "\u001b[1;35mnote\u001b[0m: This is an issue with the package mentioned above, not pip.\n",
      "\u001b[1;36mhint\u001b[0m: See above for output from the failure.\n",
      "\n",
      "\u001b[1m[\u001b[0m\u001b[34;49mnotice\u001b[0m\u001b[1;39;49m]\u001b[0m\u001b[39;49m A new release of pip available: \u001b[0m\u001b[31;49m22.3.1\u001b[0m\u001b[39;49m -> \u001b[0m\u001b[32;49m23.0\u001b[0m\n",
      "\u001b[1m[\u001b[0m\u001b[34;49mnotice\u001b[0m\u001b[1;39;49m]\u001b[0m\u001b[39;49m To update, run: \u001b[0m\u001b[32;49mpython3.11 -m pip install --upgrade pip\u001b[0m\n",
      "Note: you may need to restart the kernel to use updated packages.\n"
     ]
    }
   ],
   "source": [
    "pip install wordcloud"
   ]
  },
  {
   "cell_type": "code",
   "execution_count": 37,
   "metadata": {},
   "outputs": [
    {
     "ename": "ModuleNotFoundError",
     "evalue": "No module named 'wordcloud'",
     "output_type": "error",
     "traceback": [
      "\u001b[0;31m---------------------------------------------------------------------------\u001b[0m",
      "\u001b[0;31mModuleNotFoundError\u001b[0m                       Traceback (most recent call last)",
      "Cell \u001b[0;32mIn[37], line 1\u001b[0m\n\u001b[0;32m----> 1\u001b[0m \u001b[39mfrom\u001b[39;00m \u001b[39mwordcloud\u001b[39;00m \u001b[39mimport\u001b[39;00m WordCloud,STOPWORDS\n",
      "\u001b[0;31mModuleNotFoundError\u001b[0m: No module named 'wordcloud'"
     ]
    }
   ],
   "source": [
    "from wordcloud import WordCloud\n",
    "import matplotlib.pyplot as plt\n",
    "\n",
    "wordcloud = WordCloud(width = 400, height = 400, \n",
    "                      background_color = 'black', \n",
    "                      min_font_size = 5,\n",
    "                      stop_words=stop_words,\n",
    "                      max_words=1000,\n",
    "                      collocations=False).generate(\"Ala ma kota a kot ma mleko\")\n",
    "\n",
    "plt.figure(figsize = (12, 12), facecolor = 'lavender')\n",
    "plt.imshow(wordcloud, interpolation='bilinear')\n",
    "plt.axis(\"off\")\n",
    "plt.tight_layout(pad = 2) \n",
    "plt.show()\n"
   ]
  }
 ],
 "metadata": {
  "colab": {
   "collapsed_sections": [],
   "name": "01_Eksploracyjna_analiza_dokumentów_tekstowych.ipynb",
   "provenance": [],
   "toc_visible": true
  },
  "kernelspec": {
   "display_name": "Python 3.11.1 64-bit",
   "language": "python",
   "name": "python3"
  },
  "language_info": {
   "codemirror_mode": {
    "name": "ipython",
    "version": 3
   },
   "file_extension": ".py",
   "mimetype": "text/x-python",
   "name": "python",
   "nbconvert_exporter": "python",
   "pygments_lexer": "ipython3",
   "version": "3.11.1"
  },
  "vscode": {
   "interpreter": {
    "hash": "1a1af0ee75eeea9e2e1ee996c87e7a2b11a0bebd85af04bb136d915cefc0abce"
   }
  }
 },
 "nbformat": 4,
 "nbformat_minor": 1
}
